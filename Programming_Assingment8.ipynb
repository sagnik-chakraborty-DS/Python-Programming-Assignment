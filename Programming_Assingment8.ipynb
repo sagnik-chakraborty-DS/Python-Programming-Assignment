{
 "cells": [
  {
   "cell_type": "markdown",
   "id": "f9a385e7",
   "metadata": {},
   "source": [
    "# 1.\tWrite a Python Program to Add Two Matrices?"
   ]
  },
  {
   "cell_type": "code",
   "execution_count": 5,
   "id": "7b92ce0c",
   "metadata": {},
   "outputs": [],
   "source": [
    "from numpy import  *"
   ]
  },
  {
   "cell_type": "code",
   "execution_count": 10,
   "id": "7d22ce52",
   "metadata": {},
   "outputs": [],
   "source": [
    "matrix1 = array([[18,20,22,17],[11,18,21,18],\n",
    "   [15,21,20,19]])"
   ]
  },
  {
   "cell_type": "code",
   "execution_count": 11,
   "id": "da260ed8",
   "metadata": {},
   "outputs": [],
   "source": [
    "matrix2=array([[11,20,22,21],\n",
    "   [18,17,23,22],[12,22,20,18]])"
   ]
  },
  {
   "cell_type": "code",
   "execution_count": 14,
   "id": "691defd3",
   "metadata": {},
   "outputs": [
    {
     "name": "stdout",
     "output_type": "stream",
     "text": [
      "(3, 4)\n",
      "(3, 4)\n"
     ]
    }
   ],
   "source": [
    "print(matrix1.shape)\n",
    "print(matrix2.shape)"
   ]
  },
  {
   "cell_type": "code",
   "execution_count": 15,
   "id": "75cbc144",
   "metadata": {},
   "outputs": [],
   "source": [
    "matrix=matrix1+matrix2"
   ]
  },
  {
   "cell_type": "code",
   "execution_count": 16,
   "id": "74ff1dd8",
   "metadata": {},
   "outputs": [
    {
     "data": {
      "text/plain": [
       "array([[29, 40, 44, 38],\n",
       "       [29, 35, 44, 40],\n",
       "       [27, 43, 40, 37]])"
      ]
     },
     "execution_count": 16,
     "metadata": {},
     "output_type": "execute_result"
    }
   ],
   "source": [
    "matrix"
   ]
  },
  {
   "cell_type": "markdown",
   "id": "cfc12020",
   "metadata": {},
   "source": [
    "Another Method"
   ]
  },
  {
   "cell_type": "code",
   "execution_count": 17,
   "id": "fb676695",
   "metadata": {},
   "outputs": [
    {
     "data": {
      "text/plain": [
       "array([[18, 20, 22, 17],\n",
       "       [11, 18, 21, 18],\n",
       "       [15, 21, 20, 19]])"
      ]
     },
     "execution_count": 17,
     "metadata": {},
     "output_type": "execute_result"
    }
   ],
   "source": [
    "matrix1"
   ]
  },
  {
   "cell_type": "code",
   "execution_count": 18,
   "id": "1d20cba1",
   "metadata": {},
   "outputs": [
    {
     "data": {
      "text/plain": [
       "array([[11, 20, 22, 21],\n",
       "       [18, 17, 23, 22],\n",
       "       [12, 22, 20, 18]])"
      ]
     },
     "execution_count": 18,
     "metadata": {},
     "output_type": "execute_result"
    }
   ],
   "source": [
    "matrix2"
   ]
  },
  {
   "cell_type": "code",
   "execution_count": 23,
   "id": "fe9dc237",
   "metadata": {},
   "outputs": [],
   "source": [
    "result=array([[0,0,0,0],\n",
    "   [0,0,0,0],[0,0,0,0]])"
   ]
  },
  {
   "cell_type": "code",
   "execution_count": 27,
   "id": "da8c07e9",
   "metadata": {},
   "outputs": [],
   "source": [
    "for i in range(len(matrix1)):\n",
    "    for j in range (len(matrix1[0])):\n",
    "        result[i][j]=matrix1[i][j]+matrix2[i][j]"
   ]
  },
  {
   "cell_type": "code",
   "execution_count": 28,
   "id": "a2fa6c7a",
   "metadata": {},
   "outputs": [
    {
     "data": {
      "text/plain": [
       "array([[29, 40, 44, 38],\n",
       "       [29, 35, 44, 40],\n",
       "       [27, 43, 40, 37]])"
      ]
     },
     "execution_count": 28,
     "metadata": {},
     "output_type": "execute_result"
    }
   ],
   "source": [
    "result"
   ]
  },
  {
   "cell_type": "markdown",
   "id": "e767b372",
   "metadata": {},
   "source": [
    "# 2.\tWrite a Python Program to Multiply Two Matrices?"
   ]
  },
  {
   "cell_type": "code",
   "execution_count": 29,
   "id": "c6a6d2da",
   "metadata": {},
   "outputs": [
    {
     "data": {
      "text/plain": [
       "array([[18, 20, 22, 17],\n",
       "       [11, 18, 21, 18],\n",
       "       [15, 21, 20, 19]])"
      ]
     },
     "execution_count": 29,
     "metadata": {},
     "output_type": "execute_result"
    }
   ],
   "source": [
    "matrix1"
   ]
  },
  {
   "cell_type": "code",
   "execution_count": 30,
   "id": "079caf5f",
   "metadata": {},
   "outputs": [
    {
     "data": {
      "text/plain": [
       "array([[11, 20, 22, 21],\n",
       "       [18, 17, 23, 22],\n",
       "       [12, 22, 20, 18]])"
      ]
     },
     "execution_count": 30,
     "metadata": {},
     "output_type": "execute_result"
    }
   ],
   "source": [
    "matrix2"
   ]
  },
  {
   "cell_type": "code",
   "execution_count": 31,
   "id": "09fe4293",
   "metadata": {},
   "outputs": [],
   "source": [
    "result=array([[0,0,0,0],\n",
    "   [0,0,0,0],[0,0,0,0]])"
   ]
  },
  {
   "cell_type": "code",
   "execution_count": 32,
   "id": "9cf1ad00",
   "metadata": {},
   "outputs": [],
   "source": [
    "for i in range(len(matrix1)):\n",
    "    for j in range (len(matrix1[0])):\n",
    "        result[i][j]=matrix1[i][j]*matrix2[i][j]"
   ]
  },
  {
   "cell_type": "code",
   "execution_count": 33,
   "id": "aea46315",
   "metadata": {},
   "outputs": [
    {
     "data": {
      "text/plain": [
       "array([[198, 400, 484, 357],\n",
       "       [198, 306, 483, 396],\n",
       "       [180, 462, 400, 342]])"
      ]
     },
     "execution_count": 33,
     "metadata": {},
     "output_type": "execute_result"
    }
   ],
   "source": [
    "result"
   ]
  },
  {
   "cell_type": "markdown",
   "id": "f043571e",
   "metadata": {},
   "source": [
    "Another Method"
   ]
  },
  {
   "cell_type": "code",
   "execution_count": 36,
   "id": "179f70bd",
   "metadata": {},
   "outputs": [
    {
     "data": {
      "text/plain": [
       "array([[198, 400, 484, 357],\n",
       "       [198, 306, 483, 396],\n",
       "       [180, 462, 400, 342]])"
      ]
     },
     "execution_count": 36,
     "metadata": {},
     "output_type": "execute_result"
    }
   ],
   "source": [
    "matrix1*matrix2"
   ]
  },
  {
   "cell_type": "markdown",
   "id": "47e77f31",
   "metadata": {},
   "source": [
    "# 3.\tWrite a Python Program to Transpose a Matrix?"
   ]
  },
  {
   "cell_type": "code",
   "execution_count": 37,
   "id": "1a0bf021",
   "metadata": {},
   "outputs": [
    {
     "data": {
      "text/plain": [
       "array([[18, 20, 22, 17],\n",
       "       [11, 18, 21, 18],\n",
       "       [15, 21, 20, 19]])"
      ]
     },
     "execution_count": 37,
     "metadata": {},
     "output_type": "execute_result"
    }
   ],
   "source": [
    "matrix1"
   ]
  },
  {
   "cell_type": "code",
   "execution_count": 47,
   "id": "7c57ab9d",
   "metadata": {},
   "outputs": [],
   "source": [
    "r=matrix1.shape[0]\n",
    "c=matrix1.shape[1]"
   ]
  },
  {
   "cell_type": "code",
   "execution_count": 48,
   "id": "79b5a961",
   "metadata": {},
   "outputs": [
    {
     "name": "stdout",
     "output_type": "stream",
     "text": [
      "row= 3 col= 4\n"
     ]
    }
   ],
   "source": [
    "print(\"row=\",r,\"col=\",c)"
   ]
  },
  {
   "cell_type": "code",
   "execution_count": 59,
   "id": "953f32e0",
   "metadata": {},
   "outputs": [],
   "source": [
    "result=array([[0,0,0],[0,0,0],[0,0,0],[0,0,0]])"
   ]
  },
  {
   "cell_type": "code",
   "execution_count": 60,
   "id": "dabeb6a4",
   "metadata": {},
   "outputs": [],
   "source": [
    "for i in range(0,3):\n",
    "    for j in range(0,4):\n",
    "        result[j,i]=matrix1[i,j]"
   ]
  },
  {
   "cell_type": "code",
   "execution_count": 61,
   "id": "86092044",
   "metadata": {},
   "outputs": [
    {
     "data": {
      "text/plain": [
       "array([[18, 11, 15],\n",
       "       [20, 18, 21],\n",
       "       [22, 21, 20],\n",
       "       [17, 18, 19]])"
      ]
     },
     "execution_count": 61,
     "metadata": {},
     "output_type": "execute_result"
    }
   ],
   "source": [
    "#Transpose of matrix1\n",
    "result\n"
   ]
  },
  {
   "cell_type": "markdown",
   "id": "cba7f72c",
   "metadata": {},
   "source": [
    "# Write a Python Program to Sort Words in Alphabetic Order?"
   ]
  },
  {
   "cell_type": "code",
   "execution_count": 87,
   "id": "8ba75b01",
   "metadata": {},
   "outputs": [
    {
     "name": "stdout",
     "output_type": "stream",
     "text": [
      "The sorted words are:\n",
      "acquire\n",
      "acquisition\n",
      "air-to-ground\n",
      "armed\n",
      "be\n",
      "be\n",
      "before\n",
      "by\n",
      "cabinet\n",
      "cleared\n",
      "committee\n",
      "council\n",
      "defence\n",
      "drones,\n",
      "few\n",
      "following\n",
      "in\n",
      "is\n",
      "it\n",
      "led\n",
      "likely\n",
      "long-endurance\n",
      "missiles,\n",
      "mq9b\n",
      "next\n",
      "on\n",
      "placed\n",
      "pm\n",
      "proposal\n",
      "said.\n",
      "security,\n",
      "the\n",
      "the\n",
      "the\n",
      "the\n",
      "the\n",
      "they\n",
      "to\n",
      "to\n",
      "weeks\n",
      "which\n",
      "will\n",
      "with\n"
     ]
    }
   ],
   "source": [
    "# Program to sort alphabetically the words form a string provided by the user\n",
    "\n",
    "my_str = \"The proposal to acquire the MQ9B long-endurance drones, armed with air-to-ground missiles, is likely to be cleared by the Defence Acquisition Council  in the next few weeks following which it will be placed before the PM led Cabinet Committee on Security, they said.\"\n",
    "\n",
    "# To take input from the user\n",
    "#my_str = input(\"Enter a string: \")\n",
    "\n",
    "# breakdown the string into a list of words\n",
    "words = [word.lower() for word in my_str.split()]\n",
    "\n",
    "# sort the list\n",
    "words.sort()\n",
    "\n",
    "# display the sorted words\n",
    "\n",
    "print(\"The sorted words are:\")\n",
    "for word in words:\n",
    "    print(word)\n"
   ]
  },
  {
   "cell_type": "markdown",
   "id": "09aa8d43",
   "metadata": {},
   "source": [
    "# 5.\tWrite a Python Program to Remove Punctuation From a String?\n"
   ]
  },
  {
   "cell_type": "code",
   "execution_count": 88,
   "id": "4a715ff1",
   "metadata": {},
   "outputs": [],
   "source": [
    " punctuations = '''!()-[]{};:'\"\\,<>./?@#$%^&*_~'''\n"
   ]
  },
  {
   "cell_type": "code",
   "execution_count": 100,
   "id": "ecfd43fe",
   "metadata": {},
   "outputs": [],
   "source": [
    "#user_input=input()\n",
    "\n",
    "user_input=\"Welcome???@@##$ heLLo#$% woRd %$^$%^\""
   ]
  },
  {
   "cell_type": "code",
   "execution_count": 102,
   "id": "5e4fe455",
   "metadata": {},
   "outputs": [
    {
     "name": "stdout",
     "output_type": "stream",
     "text": [
      "welcome hello word \n"
     ]
    }
   ],
   "source": [
    "for i in user_input.lower():\n",
    "    if i in punctuations:\n",
    "            user_input = user_input.replace(i, \"\")\n",
    "\n",
    "print(user_input.lower())"
   ]
  },
  {
   "cell_type": "code",
   "execution_count": null,
   "id": "6f58911e",
   "metadata": {},
   "outputs": [],
   "source": []
  }
 ],
 "metadata": {
  "kernelspec": {
   "display_name": "Python 3",
   "language": "python",
   "name": "python3"
  },
  "language_info": {
   "codemirror_mode": {
    "name": "ipython",
    "version": 3
   },
   "file_extension": ".py",
   "mimetype": "text/x-python",
   "name": "python",
   "nbconvert_exporter": "python",
   "pygments_lexer": "ipython3",
   "version": "3.8.8"
  }
 },
 "nbformat": 4,
 "nbformat_minor": 5
}
