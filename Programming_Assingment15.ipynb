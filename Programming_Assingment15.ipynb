{
 "cells": [
  {
   "cell_type": "markdown",
   "id": "d56cf098",
   "metadata": {},
   "source": [
    "Question 1:\n",
    "Please write a program using generator to print the numbers which can be divisible by 5 and 7 between 0 and n in comma separated form while n is input by console.\n",
    "Example:\n",
    "If the following n is given as input to the program:\n",
    "100\n",
    "Then, the output of the program should be:\n",
    "0,35,70\n"
   ]
  },
  {
   "cell_type": "code",
   "execution_count": 1,
   "id": "23c2c79e",
   "metadata": {},
   "outputs": [],
   "source": [
    "class gen:\n",
    "    \n",
    "    def __init__(self,n):\n",
    "        self.n=n\n",
    "    def foo(self,n):\n",
    "        for i in range (0,n):\n",
    "            yield i\n",
    "    def div(self):\n",
    "        list_1=[]\n",
    "        for i in obj.foo(self.n):\n",
    "            if i%7==0 and i%5==0:\n",
    "                list_1.append(str(i))\n",
    "        joined_string = \",\".join(list_1)\n",
    "        print(\"Number divisible by 7 and 5 between 0 and \",self.n,\"are\") \n",
    "        print(joined_string)"
   ]
  },
  {
   "cell_type": "code",
   "execution_count": 2,
   "id": "64a9fe03",
   "metadata": {},
   "outputs": [
    {
     "name": "stdout",
     "output_type": "stream",
     "text": [
      "Number divisible by 7 and 5 between 0 and  100 are\n",
      "0,35,70\n"
     ]
    }
   ],
   "source": [
    "obj=gen(100)\n",
    "obj.div()"
   ]
  },
  {
   "cell_type": "markdown",
   "id": "c0ac1f26",
   "metadata": {},
   "source": [
    "Question 2:\n",
    "Please write a program using generator to print the even numbers between 0 and n in comma separated form while n is input by console.\n",
    "Example:\n",
    "If the following n is given as input to the program:\n",
    "10\n",
    "Then, the output of the program should be:\n",
    "0,2,4,6,8,10\n"
   ]
  },
  {
   "cell_type": "code",
   "execution_count": 3,
   "id": "cfc4c0b4",
   "metadata": {},
   "outputs": [],
   "source": [
    "class even: \n",
    "    \n",
    "    def __init__(self,n):\n",
    "        self.n=n\n",
    "    def foo(self,n):\n",
    "        for i in range (0,n+1):\n",
    "            yield i\n",
    "    def div(self):\n",
    "        list_2=[]\n",
    "        for i in obj.foo(self.n):\n",
    "            if i%2==0 :\n",
    "                list_2.append(str(i))\n",
    "        joined_string = \",\".join(list_2)\n",
    "        print(\"Even number between o to \",self.n,\"are\")\n",
    "        print(joined_string)    \n"
   ]
  },
  {
   "cell_type": "code",
   "execution_count": 4,
   "id": "7ae336d9",
   "metadata": {},
   "outputs": [
    {
     "name": "stdout",
     "output_type": "stream",
     "text": [
      "Even number between o to  10 are\n",
      "0,2,4,6,8,10\n"
     ]
    }
   ],
   "source": [
    "obj=even(10)\n",
    "l=obj.div()"
   ]
  },
  {
   "cell_type": "markdown",
   "id": "f743b191",
   "metadata": {},
   "source": [
    "Question 3:\n",
    "The Fibonacci Sequence is computed based on the following formula:\n",
    "f(n)=0 if n=0\n",
    "f(n)=1 if n=1\n",
    "f(n)=f(n-1)+f(n-2) if n>1\n",
    "Please write a program using list comprehension to print the Fibonacci Sequence in comma separated form with a given n input by console.\n",
    "Example:\n",
    "If the following n is given as input to the program:\n",
    "7\n",
    "\n",
    "Then, the output of the program should be:\n",
    "0,1,1,2,3,5,8,13\n"
   ]
  },
  {
   "cell_type": "code",
   "execution_count": 5,
   "id": "f61d1a03",
   "metadata": {},
   "outputs": [],
   "source": [
    "def fibo(n):\n",
    "    lis=[0,1]\n",
    "    for i in range(2,n+1):\n",
    "        lis.insert(i,lis[i-2]+lis[i-1])\n",
    "    joined_string = \",\".join(list(map(str, lis)))\n",
    "    print(joined_string) "
   ]
  },
  {
   "cell_type": "code",
   "execution_count": 6,
   "id": "c638de7f",
   "metadata": {},
   "outputs": [
    {
     "name": "stdout",
     "output_type": "stream",
     "text": [
      "0,1,1,2,3,5,8,13\n"
     ]
    }
   ],
   "source": [
    "fibo(7)"
   ]
  },
  {
   "cell_type": "markdown",
   "id": "713a08c2",
   "metadata": {},
   "source": [
    "Question 4:\n",
    "Assuming that we have some email addresses in the \"username@companyname.com\" format, please write program to print the user name of a given email address. Both user names and company names are composed of letters only.\n",
    "Example:\n",
    "If the following email address is given as input to the program:\n",
    "john@google.com\n",
    "Then, the output of the program should be:\n",
    "john\n"
   ]
  },
  {
   "cell_type": "code",
   "execution_count": 7,
   "id": "649e165f",
   "metadata": {},
   "outputs": [],
   "source": [
    "def email():\n",
    "    str=input(\"Enter email id--->\")\n",
    "    x=str.split(\"@\")\n",
    "    print(\"Name of the person is--->\",x[0])\n"
   ]
  },
  {
   "cell_type": "code",
   "execution_count": 8,
   "id": "d79a5528",
   "metadata": {},
   "outputs": [
    {
     "name": "stdout",
     "output_type": "stream",
     "text": [
      "Enter email id--->john@google.com\n",
      "Name of the person is---> john\n"
     ]
    }
   ],
   "source": [
    "email()"
   ]
  },
  {
   "cell_type": "markdown",
   "id": "12ac95ff",
   "metadata": {},
   "source": [
    "Question 5:\n",
    "Define a class named Shape and its subclass Square. The Square class has an init function which takes a length as argument. Both classes have a area function which can print the area of the shape where Shape's area is 0 by default.\n"
   ]
  },
  {
   "cell_type": "code",
   "execution_count": 9,
   "id": "725d4f70",
   "metadata": {},
   "outputs": [],
   "source": [
    "class Shape():\n",
    "    def __init__(self,length):\n",
    "        self.length=length\n",
    "    def area(self):\n",
    "        print(\"area is--->\",0)\n",
    "class Square(Shape):\n",
    "    def __init__(self,length):\n",
    "        self.length=length\n",
    "    def area(self):\n",
    "        print(\"area is--->\",self.length*self.length)"
   ]
  },
  {
   "cell_type": "code",
   "execution_count": 10,
   "id": "bfcb982f",
   "metadata": {},
   "outputs": [
    {
     "name": "stdout",
     "output_type": "stream",
     "text": [
      "area is---> 0\n"
     ]
    }
   ],
   "source": [
    "obj_parent=Shape(10)\n",
    "obj_parent.area()"
   ]
  },
  {
   "cell_type": "code",
   "execution_count": 11,
   "id": "8319c9f0",
   "metadata": {},
   "outputs": [
    {
     "name": "stdout",
     "output_type": "stream",
     "text": [
      "area is---> 25\n"
     ]
    }
   ],
   "source": [
    "obj_class=Square(5)\n",
    "obj_class.area()"
   ]
  },
  {
   "cell_type": "code",
   "execution_count": null,
   "id": "a9a5db80",
   "metadata": {},
   "outputs": [],
   "source": []
  },
  {
   "cell_type": "code",
   "execution_count": null,
   "id": "74ac79ec",
   "metadata": {},
   "outputs": [],
   "source": []
  },
  {
   "cell_type": "code",
   "execution_count": null,
   "id": "40552856",
   "metadata": {},
   "outputs": [],
   "source": []
  }
 ],
 "metadata": {
  "kernelspec": {
   "display_name": "Python 3",
   "language": "python",
   "name": "python3"
  },
  "language_info": {
   "codemirror_mode": {
    "name": "ipython",
    "version": 3
   },
   "file_extension": ".py",
   "mimetype": "text/x-python",
   "name": "python",
   "nbconvert_exporter": "python",
   "pygments_lexer": "ipython3",
   "version": "3.8.8"
  }
 },
 "nbformat": 4,
 "nbformat_minor": 5
}
