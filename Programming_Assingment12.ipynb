{
 "cells": [
  {
   "cell_type": "markdown",
   "id": "70c0d85a",
   "metadata": {},
   "source": [
    "# 1.\tWrite a Python program to Extract Unique values dictionary values?"
   ]
  },
  {
   "cell_type": "code",
   "execution_count": 50,
   "id": "853d664d",
   "metadata": {},
   "outputs": [],
   "source": [
    "test_dict = {'a' : [5, 6, 7, 8],\n",
    "             'b' : [10, 11, 7, 5],\n",
    "             'c' : [6, 12, 10, 8],\n",
    "             'd' : [1, 2, 5]}"
   ]
  },
  {
   "cell_type": "code",
   "execution_count": 51,
   "id": "76378160",
   "metadata": {},
   "outputs": [],
   "source": [
    "list=[]"
   ]
  },
  {
   "cell_type": "code",
   "execution_count": 53,
   "id": "87952053",
   "metadata": {},
   "outputs": [],
   "source": [
    "#we put all values of dictionary inside empty list\n",
    "for i in test_dict:\n",
    "    for j in range(0,len(test_dict[i])):\n",
    "        list.append(test_dict[i][j])\n"
   ]
  },
  {
   "cell_type": "code",
   "execution_count": 57,
   "id": "d49aaf74",
   "metadata": {},
   "outputs": [
    {
     "name": "stdout",
     "output_type": "stream",
     "text": [
      "This is the unique value of dictionary test_dict\n"
     ]
    },
    {
     "data": {
      "text/plain": [
       "{1, 2, 5, 6, 7, 8, 10, 11, 12}"
      ]
     },
     "execution_count": 57,
     "metadata": {},
     "output_type": "execute_result"
    }
   ],
   "source": [
    "print(\"This is the unique value of dictionary test_dict\")\n",
    "set(list)"
   ]
  },
  {
   "cell_type": "markdown",
   "id": "395f301b",
   "metadata": {},
   "source": [
    "# 2.\tWrite a Python program to find the sum of all items in a dictionary?"
   ]
  },
  {
   "cell_type": "code",
   "execution_count": 60,
   "id": "d5471cdf",
   "metadata": {},
   "outputs": [
    {
     "data": {
      "text/plain": [
       "dict_items([('a', [5, 6, 7, 8]), ('b', [10, 11, 7, 5]), ('c', [6, 12, 10, 8]), ('d', [1, 2, 5])])"
      ]
     },
     "execution_count": 60,
     "metadata": {},
     "output_type": "execute_result"
    }
   ],
   "source": [
    "test_dict.items()"
   ]
  },
  {
   "cell_type": "code",
   "execution_count": 61,
   "id": "ee0bcef6",
   "metadata": {},
   "outputs": [],
   "source": [
    "list=[]\n",
    "#we put all values of dictionary inside empty list\n",
    "for i in test_dict:\n",
    "    for j in range(0,len(test_dict[i])):\n",
    "        list.append(test_dict[i][j])\n"
   ]
  },
  {
   "cell_type": "code",
   "execution_count": 67,
   "id": "12d56e3f",
   "metadata": {},
   "outputs": [
    {
     "name": "stdout",
     "output_type": "stream",
     "text": [
      "Sum of all item is--->\n",
      "103\n"
     ]
    }
   ],
   "source": [
    "print(\"Sum of all item is--->\")\n",
    "sum=0\n",
    "for i in list:\n",
    "    sum=sum+i\n",
    "print(sum)    "
   ]
  },
  {
   "cell_type": "markdown",
   "id": "9e04da71",
   "metadata": {},
   "source": [
    "# 3.\tWrite a Python program to Merging two Dictionaries?"
   ]
  },
  {
   "cell_type": "code",
   "execution_count": 74,
   "id": "7bc5fb3a",
   "metadata": {},
   "outputs": [
    {
     "name": "stdout",
     "output_type": "stream",
     "text": [
      "None\n",
      "{'d': 6, 'c': 4, 'a': 10, 'b': 8}\n"
     ]
    }
   ],
   "source": [
    "# Python code to merge dict using update() method\n",
    "def Merge(dict1, dict2):\n",
    "    return(dict2.update(dict1))\n",
    "\n",
    "\n",
    "dict1 = {'a': 10, 'b': 8}\n",
    "dict2 = {'d': 6, 'c': 4}\n",
    "\n",
    "# This return None\n",
    "print(Merge(dict1, dict2))\n",
    "\n",
    "# changes made in dict2\n",
    "print(dict2)\n"
   ]
  },
  {
   "cell_type": "markdown",
   "id": "654d01c7",
   "metadata": {},
   "source": [
    "# 4.\tWrite a Python program to convert key-values list to flat dictionary?"
   ]
  },
  {
   "cell_type": "code",
   "execution_count": 75,
   "id": "2f720308",
   "metadata": {},
   "outputs": [
    {
     "name": "stdout",
     "output_type": "stream",
     "text": [
      "The original dictionary is : {'month': [1, 2, 3], 'name': ['Jan', 'Feb', 'March']}\n",
      "Flattened dictionary : {1: 'Jan', 2: 'Feb', 3: 'March'}\n"
     ]
    }
   ],
   "source": [
    "from itertools import product\n",
    "\n",
    "# initializing dictionary\n",
    "test_dict = {'month' : [1, 2, 3],\n",
    "             'name' : ['Jan', 'Feb', 'March']}\n",
    "\n",
    "# printing original dictionary\n",
    "print(\"The original dictionary is : \" + str(test_dict))\n",
    "\n",
    "# Convert key-values list to flat dictionary\n",
    "# Using dict() + zip()\n",
    "res = dict(zip(test_dict['month'], test_dict['name']))\n",
    "\n",
    "# printing result\n",
    "print(\"Flattened dictionary : \" + str(res))\n"
   ]
  },
  {
   "cell_type": "markdown",
   "id": "ce6adaa7",
   "metadata": {},
   "source": [
    "# 5.\tWrite a Python program to insertion at the beginning in OrderedDict?"
   ]
  },
  {
   "cell_type": "code",
   "execution_count": 78,
   "id": "bd7e9cbb",
   "metadata": {},
   "outputs": [
    {
     "name": "stdout",
     "output_type": "stream",
     "text": [
      "Resultant Dictionary : OrderedDict([('c', '3'), ('a', '1'), ('b', '2')])\n"
     ]
    }
   ],
   "source": [
    "from collections import OrderedDict\n",
    "\n",
    "# initialising ordered_dict\n",
    "iniordered_dict = OrderedDict([('a', '1'), ('b', '2')])\n",
    "\n",
    "# inserting items in starting of dict\n",
    "iniordered_dict.update({'c':'3'})\n",
    "iniordered_dict.move_to_end('c', last = False)\n",
    "\n",
    "# print result\n",
    "print (\"Resultant Dictionary : \"+str(iniordered_dict))\n",
    "\n"
   ]
  },
  {
   "cell_type": "markdown",
   "id": "24aab767",
   "metadata": {},
   "source": [
    "# 6.\tWrite a Python program to check order of character in string using OrderedDict()?"
   ]
  },
  {
   "cell_type": "code",
   "execution_count": 81,
   "id": "543ce807",
   "metadata": {},
   "outputs": [
    {
     "name": "stdout",
     "output_type": "stream",
     "text": [
      "true\n"
     ]
    }
   ],
   "source": [
    "# Function to check if string follows order of\n",
    "# characters defined by a pattern\n",
    "from collections import OrderedDict\n",
    "\n",
    "def checkOrder(input, pattern):\n",
    "\n",
    "    # create empty OrderedDict\n",
    "    # output will be like {'a': None,'b': None, 'c': None}\n",
    "    dict = OrderedDict.fromkeys(input)\n",
    "\n",
    "    # traverse generated OrderedDict parallel with\n",
    "    # pattern string to check if order of characters\n",
    "    # are same or not\n",
    "    ptrlen = 0\n",
    "    for key,value in dict.items():\n",
    "        if (key == pattern[ptrlen]):\n",
    "            ptrlen = ptrlen + 1\n",
    "        \n",
    "        # check if we have traverse complete\n",
    "        # pattern string\n",
    "        if (ptrlen == (len(pattern))):\n",
    "            return 'true'\n",
    "\n",
    "    # if we come out from for loop that means\n",
    "    # order was mismatched\n",
    "    return 'false'\n",
    "\n",
    "\n",
    "input = 'engineers rock'\n",
    "pattern = 'egr'\n",
    "print (checkOrder(input,pattern))\n"
   ]
  },
  {
   "cell_type": "markdown",
   "id": "a6caa238",
   "metadata": {},
   "source": [
    "# 7.\tWrite a Python program to sort Python Dictionaries by Key or Value?"
   ]
  },
  {
   "cell_type": "code",
   "execution_count": 84,
   "id": "1ea425bf",
   "metadata": {},
   "outputs": [
    {
     "name": "stdout",
     "output_type": "stream",
     "text": [
      "Task 1:-\n",
      "\n",
      "Keys are\n",
      "1 2 3 4 5 6 "
     ]
    }
   ],
   "source": [
    "# Function calling\n",
    "def dictionairy():\n",
    "    # Declare hash function\t\n",
    "    key_value ={}\n",
    "\n",
    "    # Initializing value\n",
    "    key_value[2] = 56\n",
    "    key_value[1] = 2\n",
    "    key_value[5] = 12\n",
    "    key_value[4] = 24\n",
    "    key_value[6] = 18\n",
    "    key_value[3] = 323\n",
    "\n",
    "    print (\"Task 1:-\\n\")\n",
    "    print (\"Keys are\")\n",
    "\n",
    "    # iterkeys() returns an iterator over the\n",
    "    # dictionary’s keys.\n",
    "    for i in sorted (key_value.keys()) :\n",
    "            print(i, end = \" \")\n",
    "\n",
    "def main():\n",
    "    # function calling\n",
    "    dictionairy()\n",
    "    \n",
    "main()\n"
   ]
  },
  {
   "cell_type": "code",
   "execution_count": 86,
   "id": "560c1ab7",
   "metadata": {},
   "outputs": [
    {
     "name": "stdout",
     "output_type": "stream",
     "text": [
      "Task 2:-\n",
      "Keys and Values sorted in alphabetical order by the key \n",
      "(1, 2) (2, 56) (3, 323) (4, 24) (5, 12) (6, 18) "
     ]
    }
   ],
   "source": [
    "# function calling\n",
    "def dictionairy():\n",
    "\n",
    "    # Declaring the hash function\n",
    "    key_value ={}\n",
    "\n",
    "    # Initialize value\n",
    "    key_value[2] = 56\n",
    "    key_value[1] = 2\n",
    "    key_value[5] = 12\n",
    "    key_value[4] = 24\n",
    "    key_value[6] = 18\n",
    "    key_value[3] = 323\n",
    "\n",
    "    print (\"Task 2:-\\nKeys and Values sorted in\",\n",
    "    \"alphabetical order by the key \")\n",
    "\n",
    "    # sorted(key_value) returns an iterator over the\n",
    "    # Dictionary’s value sorted in keys.\n",
    "    for i in sorted (key_value) :\n",
    "        print ((i, key_value[i]), end =\" \")\n",
    "\n",
    "def main():\n",
    "    # function calling\n",
    "    dictionairy()\n",
    "    \n",
    "\n",
    "main()\n"
   ]
  },
  {
   "cell_type": "code",
   "execution_count": null,
   "id": "4f02ea74",
   "metadata": {},
   "outputs": [],
   "source": []
  }
 ],
 "metadata": {
  "kernelspec": {
   "display_name": "Python 3",
   "language": "python",
   "name": "python3"
  },
  "language_info": {
   "codemirror_mode": {
    "name": "ipython",
    "version": 3
   },
   "file_extension": ".py",
   "mimetype": "text/x-python",
   "name": "python",
   "nbconvert_exporter": "python",
   "pygments_lexer": "ipython3",
   "version": "3.8.8"
  }
 },
 "nbformat": 4,
 "nbformat_minor": 5
}
