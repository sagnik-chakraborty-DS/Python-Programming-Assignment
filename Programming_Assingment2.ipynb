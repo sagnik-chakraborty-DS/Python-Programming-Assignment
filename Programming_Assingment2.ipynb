{
 "cells": [
  {
   "cell_type": "markdown",
   "id": "345b6850",
   "metadata": {},
   "source": [
    "1.\tWrite a Python program to convert kilometers to miles?"
   ]
  },
  {
   "cell_type": "code",
   "execution_count": null,
   "id": "cdfd5f62",
   "metadata": {},
   "outputs": [],
   "source": []
  },
  {
   "cell_type": "code",
   "execution_count": 12,
   "id": "bcfcf080",
   "metadata": {},
   "outputs": [
    {
     "name": "stdout",
     "output_type": "stream",
     "text": [
      "Enter your value in km 102\n",
      "102.0  Km means  63.382799999999996 miles\n"
     ]
    }
   ],
   "source": [
    "a=float(input(\"Enter your value in km \"))\n",
    "\n",
    "print(a,\" Km means \",(.6214*a),\"miles\")"
   ]
  },
  {
   "cell_type": "markdown",
   "id": "ecfd3755",
   "metadata": {},
   "source": [
    "2.\tWrite a Python program to convert Celsius to Fahrenheit?"
   ]
  },
  {
   "cell_type": "code",
   "execution_count": null,
   "id": "94853d9f",
   "metadata": {},
   "outputs": [],
   "source": []
  },
  {
   "cell_type": "code",
   "execution_count": 8,
   "id": "e22bafda",
   "metadata": {},
   "outputs": [
    {
     "name": "stdout",
     "output_type": "stream",
     "text": [
      "Enter Tempareture in celcius32\n",
      "32.0 °C means 89.6 °F\n"
     ]
    }
   ],
   "source": [
    "a=float(input(\"Enter Tempareture in celcius\"))\n",
    "\n",
    "print(a,\"°C means\",(a*9/5)+32 ,\"°F\")"
   ]
  },
  {
   "cell_type": "markdown",
   "id": "aed5c642",
   "metadata": {},
   "source": [
    "3.\tWrite a Python program to display calendar?"
   ]
  },
  {
   "cell_type": "code",
   "execution_count": 19,
   "id": "e298fed2",
   "metadata": {},
   "outputs": [
    {
     "name": "stdout",
     "output_type": "stream",
     "text": [
      "Enter year-->1996\n",
      "Enter month-->1\n",
      "\n",
      "\n",
      "    January 1996\n",
      "Mo Tu We Th Fr Sa Su\n",
      " 1  2  3  4  5  6  7\n",
      " 8  9 10 11 12 13 14\n",
      "15 16 17 18 19 20 21\n",
      "22 23 24 25 26 27 28\n",
      "29 30 31\n",
      "\n"
     ]
    }
   ],
   "source": [
    "import calendar\n",
    "\n",
    "a=int(input(\"Enter year-->\"))\n",
    "b=int(input(\"Enter month-->\"))\n",
    "print(\"\\n\")\n",
    "print(calendar.month(a,b))"
   ]
  },
  {
   "cell_type": "markdown",
   "id": "9586c4cd",
   "metadata": {},
   "source": [
    "4.\tWrite a Python program to solve quadratic equation?"
   ]
  },
  {
   "cell_type": "code",
   "execution_count": null,
   "id": "22e040ac",
   "metadata": {},
   "outputs": [],
   "source": []
  },
  {
   "cell_type": "code",
   "execution_count": 22,
   "id": "989d00f2",
   "metadata": {},
   "outputs": [
    {
     "name": "stdout",
     "output_type": "stream",
     "text": [
      "Enter value of a 1\n",
      "Enter value of b -5\n",
      "Enter value of c -6\n",
      "Our quadratic equation is --> 1.0 x2  +   -5.0 x  +   -6.0 = 0\n",
      "First root of our equation is  6.0\n",
      "Second root of our equation is  -1.0\n"
     ]
    }
   ],
   "source": [
    "a=float(input(\"Enter value of a \"))\n",
    "b=float(input(\"Enter value of b \"))\n",
    "c=float(input(\"Enter value of c \"))\n",
    "\n",
    "print(\"Our quadratic equation is -->\",a,\"x2  +  \",b,\"x  +  \",c,\"= 0\")\n",
    "\n",
    "print(\"First root of our equation is \",(-b +(b ** 2 - 4 * a * c) ** 0.5) / (2 * a))\n",
    "print(\"Second root of our equation is \",(-b -(b ** 2 - 4 * a * c) ** 0.5) / (2 * a))"
   ]
  },
  {
   "cell_type": "code",
   "execution_count": null,
   "id": "a925c68f",
   "metadata": {},
   "outputs": [],
   "source": []
  },
  {
   "cell_type": "markdown",
   "id": "0095b319",
   "metadata": {},
   "source": [
    "5.\tWrite a Python program to swap two variables without temp variable?"
   ]
  },
  {
   "cell_type": "code",
   "execution_count": 24,
   "id": "f228bef5",
   "metadata": {},
   "outputs": [
    {
     "name": "stdout",
     "output_type": "stream",
     "text": [
      "Enter value  hello\n",
      "Enter value  100\n",
      "Before swiping value of a is = hello and b is = 100\n",
      "After swiping value of a is = 100 and b is = hello\n"
     ]
    }
   ],
   "source": [
    "a=input(\"Enter value  \")\n",
    "b=input(\"Enter value  \")\n",
    "\n",
    "print(\"Before swiping value of a is =\",a,\"and b is =\",b)\n",
    "\n",
    "a,b=b,a\n",
    "\n",
    "print(\"After swiping value of a is =\",a,\"and b is =\",b)"
   ]
  },
  {
   "cell_type": "code",
   "execution_count": null,
   "id": "3cab9427",
   "metadata": {},
   "outputs": [],
   "source": []
  }
 ],
 "metadata": {
  "kernelspec": {
   "display_name": "Python 3",
   "language": "python",
   "name": "python3"
  },
  "language_info": {
   "codemirror_mode": {
    "name": "ipython",
    "version": 3
   },
   "file_extension": ".py",
   "mimetype": "text/x-python",
   "name": "python",
   "nbconvert_exporter": "python",
   "pygments_lexer": "ipython3",
   "version": "3.8.8"
  }
 },
 "nbformat": 4,
 "nbformat_minor": 5
}
