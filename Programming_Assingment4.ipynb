{
 "cells": [
  {
   "cell_type": "code",
   "execution_count": null,
   "id": "27289eb1",
   "metadata": {},
   "outputs": [],
   "source": [
    "\n"
   ]
  },
  {
   "cell_type": "markdown",
   "id": "d115024c",
   "metadata": {},
   "source": [
    "1.\tWrite a Python Program to Find the Factorial of a Number?"
   ]
  },
  {
   "cell_type": "code",
   "execution_count": 1,
   "id": "cf24e5e8",
   "metadata": {},
   "outputs": [],
   "source": [
    "def factorial(a):\n",
    "    for i in range(1,a):\n",
    "        a=a*i\n",
    "    print(a)"
   ]
  },
  {
   "cell_type": "code",
   "execution_count": 2,
   "id": "76706199",
   "metadata": {},
   "outputs": [
    {
     "name": "stdout",
     "output_type": "stream",
     "text": [
      "5040\n"
     ]
    }
   ],
   "source": [
    "factorial(7)"
   ]
  },
  {
   "cell_type": "markdown",
   "id": "b2c92393",
   "metadata": {},
   "source": [
    "2.\tWrite a Python Program to Display the multiplication Table?"
   ]
  },
  {
   "cell_type": "code",
   "execution_count": 3,
   "id": "69c109cb",
   "metadata": {},
   "outputs": [
    {
     "name": "stdout",
     "output_type": "stream",
     "text": [
      "Enter the table12\n",
      "12 * 1 = 12\n",
      "12 * 2 = 24\n",
      "12 * 3 = 36\n",
      "12 * 4 = 48\n",
      "12 * 5 = 60\n",
      "12 * 6 = 72\n",
      "12 * 7 = 84\n",
      "12 * 8 = 96\n",
      "12 * 9 = 108\n",
      "12 * 10 = 120\n"
     ]
    }
   ],
   "source": [
    "a=int(input(\"Enter the table\"))\n",
    "\n",
    "for i in range (1,11):\n",
    "    print(a,\"*\",i,\"=\",a*i)"
   ]
  },
  {
   "cell_type": "markdown",
   "id": "d42b379a",
   "metadata": {},
   "source": [
    "3.\tWrite a Python Program to Print the Fibonacci sequence?"
   ]
  },
  {
   "cell_type": "code",
   "execution_count": null,
   "id": "66615774",
   "metadata": {},
   "outputs": [],
   "source": []
  },
  {
   "cell_type": "code",
   "execution_count": 4,
   "id": "bc953e33",
   "metadata": {},
   "outputs": [
    {
     "name": "stdout",
     "output_type": "stream",
     "text": [
      "Upto which term 12\n",
      "Fibonacci series upto  12 th term is  [1, 1, 2, 3, 5, 8, 13, 21, 34, 55, 89, 144, 233] and the  12 th term is  233\n"
     ]
    }
   ],
   "source": [
    "l=[]\n",
    "l.insert(0,1)\n",
    "l.insert(1,1)\n",
    "\n",
    "a=int(input(\"Upto which term \"))\n",
    "for i in range(2,a+1):\n",
    "    l.insert(i,(l[i-1]+l[i-2]))\n",
    "\n",
    "print(\"Fibonacci series upto \",a,\"th term is \",l,\"and the \",a,\"th term is \",l[a])"
   ]
  },
  {
   "cell_type": "code",
   "execution_count": null,
   "id": "2bf7c7b3",
   "metadata": {},
   "outputs": [],
   "source": []
  },
  {
   "cell_type": "markdown",
   "id": "a18e55b3",
   "metadata": {},
   "source": [
    "4.\tWrite a Python Program to Check Armstrong Number?"
   ]
  },
  {
   "cell_type": "code",
   "execution_count": null,
   "id": "0e436256",
   "metadata": {},
   "outputs": [],
   "source": [
    "#some time this program give error plz restart the kernal everything will be fine"
   ]
  },
  {
   "cell_type": "code",
   "execution_count": 5,
   "id": "2c117a0b",
   "metadata": {},
   "outputs": [
    {
     "name": "stdout",
     "output_type": "stream",
     "text": [
      "Enter the number  407\n",
      "length of given number is  3\n",
      "['4', '0', '7']\n",
      "len of list is  3\n"
     ]
    }
   ],
   "source": [
    "a=int(input(\"Enter the number  \"))\n",
    "\n",
    "#b store the lenghth of given number\n",
    "b=int(len(str(a)))\n",
    "print(\"length of given number is \",b)\n",
    "\n",
    "#now i convert this number to string in order to make a list for future use\n",
    "a=str(a)\n",
    "list=[]\n",
    "for i in range(0,b):\n",
    "    list.insert(i,a[i])\n",
    "print(list)\n",
    "\n",
    "print(\"len of list is \",len(list))\n"
   ]
  },
  {
   "cell_type": "code",
   "execution_count": 6,
   "id": "f740e44a",
   "metadata": {},
   "outputs": [],
   "source": [
    "#le store length of the list\n",
    "le=len(list)\n",
    "list2=[]\n",
    "for i in range(0,le):\n",
    "    list2.insert(i,int(list[i])**b)\n",
    "    "
   ]
  },
  {
   "cell_type": "code",
   "execution_count": 7,
   "id": "f75ea453",
   "metadata": {},
   "outputs": [
    {
     "name": "stdout",
     "output_type": "stream",
     "text": [
      "[64, 0, 343]\n"
     ]
    }
   ],
   "source": [
    "print(list2)"
   ]
  },
  {
   "cell_type": "code",
   "execution_count": 8,
   "id": "c94f9276",
   "metadata": {},
   "outputs": [
    {
     "name": "stdout",
     "output_type": "stream",
     "text": [
      "407 number is Armstrong number\n"
     ]
    }
   ],
   "source": [
    "c=sum(list2)\n",
    "a=int(a)\n",
    "if a==c:\n",
    "    print (a,\"number is Armstrong number\")\n",
    "else:\n",
    "    print(a,\"its not an Armstrong number\")"
   ]
  },
  {
   "cell_type": "markdown",
   "id": "2bc54e3c",
   "metadata": {},
   "source": [
    "5.\tWrite a Python Program to Find Armstrong Number in an Interval?"
   ]
  },
  {
   "cell_type": "code",
   "execution_count": 9,
   "id": "8e8f8225",
   "metadata": {},
   "outputs": [
    {
     "name": "stdout",
     "output_type": "stream",
     "text": [
      "lower limit 100\n",
      "upper limit 2000\n",
      "List of Armstrong Numbers are\n",
      "153\n",
      "370\n",
      "371\n",
      "407\n",
      "1634\n"
     ]
    }
   ],
   "source": [
    "# Program to check Armstrong numbers in a certain interval\n",
    "\n",
    "lower = int(input(\"lower limit \"))\n",
    "upper = int(input(\"upper limit \"))\n",
    "print(\"List of Armstrong Numbers are\")\n",
    "for num in range(lower, upper + 1):\n",
    "    # order of number\n",
    "    order = len(str(num))\n",
    "    # initialize sum\n",
    "    sum = 0\n",
    "    temp = num\n",
    "    while temp > 0:\n",
    "        digit = temp % 10\n",
    "        sum += digit ** order\n",
    "        temp //= 10\n",
    "    if num == sum:\n",
    "        print(num)\n"
   ]
  },
  {
   "cell_type": "markdown",
   "id": "6aa24667",
   "metadata": {},
   "source": [
    "6.\tWrite a Python Program to Find the Sum of Natural Numbers?"
   ]
  },
  {
   "cell_type": "code",
   "execution_count": null,
   "id": "4004b4d8",
   "metadata": {},
   "outputs": [],
   "source": []
  },
  {
   "cell_type": "code",
   "execution_count": 10,
   "id": "4cbabd4c",
   "metadata": {},
   "outputs": [
    {
     "name": "stdout",
     "output_type": "stream",
     "text": [
      "Starting number 1\n",
      "Ending number 100\n"
     ]
    }
   ],
   "source": [
    "a=int(input(\"Starting number \"))\n",
    "b=int(input(\"Ending number \"))\n",
    "list=[]\n",
    "#Here i create list containing natural numbers\n",
    "for i in range(a,b+1):\n",
    "    list.append(i)\n",
    "\n",
    "   \n"
   ]
  },
  {
   "cell_type": "code",
   "execution_count": 11,
   "id": "34ba552c",
   "metadata": {},
   "outputs": [
    {
     "name": "stdout",
     "output_type": "stream",
     "text": [
      "Sum of the numbers from 1 to 100 is 5050\n"
     ]
    }
   ],
   "source": [
    "sum=0\n",
    "for i in list:\n",
    "    sum=sum+i\n",
    "    \n",
    "print(\"Sum of the numbers from\",a,\"to\",b,\"is\",sum)    "
   ]
  },
  {
   "cell_type": "code",
   "execution_count": null,
   "id": "309d0339",
   "metadata": {},
   "outputs": [],
   "source": []
  },
  {
   "cell_type": "code",
   "execution_count": null,
   "id": "00b0c134",
   "metadata": {},
   "outputs": [],
   "source": []
  },
  {
   "cell_type": "code",
   "execution_count": null,
   "id": "c579a2fd",
   "metadata": {},
   "outputs": [],
   "source": []
  },
  {
   "cell_type": "code",
   "execution_count": null,
   "id": "082ed6dd",
   "metadata": {},
   "outputs": [],
   "source": []
  },
  {
   "cell_type": "code",
   "execution_count": null,
   "id": "70f39327",
   "metadata": {},
   "outputs": [],
   "source": []
  },
  {
   "cell_type": "code",
   "execution_count": null,
   "id": "ac29bb89",
   "metadata": {},
   "outputs": [],
   "source": []
  }
 ],
 "metadata": {
  "kernelspec": {
   "display_name": "Python 3",
   "language": "python",
   "name": "python3"
  },
  "language_info": {
   "codemirror_mode": {
    "name": "ipython",
    "version": 3
   },
   "file_extension": ".py",
   "mimetype": "text/x-python",
   "name": "python",
   "nbconvert_exporter": "python",
   "pygments_lexer": "ipython3",
   "version": "3.8.8"
  }
 },
 "nbformat": 4,
 "nbformat_minor": 5
}
