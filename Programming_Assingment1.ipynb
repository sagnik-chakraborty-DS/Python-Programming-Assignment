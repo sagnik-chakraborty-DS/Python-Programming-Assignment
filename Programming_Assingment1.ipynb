{
 "cells": [
  {
   "cell_type": "markdown",
   "id": "7c56460e",
   "metadata": {},
   "source": [
    "1.\tWrite a Python program to print \"Hello Python\"?"
   ]
  },
  {
   "cell_type": "code",
   "execution_count": 1,
   "id": "0ace5e4f",
   "metadata": {},
   "outputs": [
    {
     "name": "stdout",
     "output_type": "stream",
     "text": [
      "Hello Python\n"
     ]
    }
   ],
   "source": [
    "print(\"Hello Python\")"
   ]
  },
  {
   "cell_type": "markdown",
   "id": "dec158b0",
   "metadata": {},
   "source": [
    "2.\tWrite a Python program to do arithmetical operations addition and division.?"
   ]
  },
  {
   "cell_type": "code",
   "execution_count": 17,
   "id": "ae30f127",
   "metadata": {},
   "outputs": [],
   "source": [
    "def arithmetic(a,b):\n",
    "    c=input(\"Addition or Division --> \").upper()\n",
    "    if c==\"ADDITION\":\n",
    "        print(\"Result of addition is \",(a+b))\n",
    "    elif c==\"DIVISION\":\n",
    "        print(\"Result of division is \",(a/b))\n",
    "        "
   ]
  },
  {
   "cell_type": "code",
   "execution_count": 18,
   "id": "4d2cdd7f",
   "metadata": {},
   "outputs": [
    {
     "name": "stdout",
     "output_type": "stream",
     "text": [
      "Addition or Division --> addition\n",
      "result of addition is  11\n"
     ]
    }
   ],
   "source": [
    "arithmetic(5,6)"
   ]
  },
  {
   "cell_type": "markdown",
   "id": "766ed3ec",
   "metadata": {},
   "source": [
    "3.\tWrite a Python program to find the area of a triangle?"
   ]
  },
  {
   "cell_type": "code",
   "execution_count": 29,
   "id": "980621c3",
   "metadata": {},
   "outputs": [],
   "source": [
    "#formulla for area of triangle-->1/2*(base)*perpendicular hight"
   ]
  },
  {
   "cell_type": "code",
   "execution_count": 21,
   "id": "673dd4a7",
   "metadata": {},
   "outputs": [
    {
     "name": "stdout",
     "output_type": "stream",
     "text": [
      "Length of base-->10\n",
      "Length of height-->10\n",
      "Area of triangle is --> 50.0\n"
     ]
    }
   ],
   "source": [
    "a=int(input(\"Length of base-->\"))\n",
    "b=int(input(\"Length of height-->\"))\n",
    "\n",
    "print(\"Area of triangle is -->\",.5*a*b)"
   ]
  },
  {
   "cell_type": "markdown",
   "id": "2bd1dedd",
   "metadata": {},
   "source": [
    " 4.\tWrite a Python program to swap two variables?"
   ]
  },
  {
   "cell_type": "code",
   "execution_count": 25,
   "id": "d386434e",
   "metadata": {},
   "outputs": [
    {
     "name": "stdout",
     "output_type": "stream",
     "text": [
      "Enter first number-->55\n",
      "Enter second number-->66\n",
      "Value of a and b before swiping is ---> a= 55 b= 66\n",
      "Value of a and b after swiping is ---> a= 66 b= 55\n"
     ]
    }
   ],
   "source": [
    "a=int(input(\"Enter first number-->\"))\n",
    "b=int(input(\"Enter second number-->\"))\n",
    "\n",
    "print(\"Value of a and b before swiping is --->\",\"a=\",a,\"b=\",b)\n",
    "\n",
    "#creating a temp variable to store data temporary\n",
    "\n",
    "temp=a\n",
    "a=b\n",
    "b=temp\n",
    "\n",
    "print(\"Value of a and b after swiping is --->\",\"a=\",a,\"b=\",b)\n",
    "\n"
   ]
  },
  {
   "cell_type": "markdown",
   "id": "3cd180a9",
   "metadata": {},
   "source": [
    "5.\tWrite a Python program to generate a random number?"
   ]
  },
  {
   "cell_type": "code",
   "execution_count": 27,
   "id": "0764cfb4",
   "metadata": {},
   "outputs": [
    {
     "name": "stdout",
     "output_type": "stream",
     "text": [
      "0.4902161966662639\n"
     ]
    }
   ],
   "source": [
    "#Generating random number between 0 and 1 randomly(FLOAT)\n",
    "import random\n",
    "n = random.random()\n",
    "print(n)"
   ]
  },
  {
   "cell_type": "code",
   "execution_count": 28,
   "id": "c27b6b13",
   "metadata": {},
   "outputs": [
    {
     "name": "stdout",
     "output_type": "stream",
     "text": [
      "Enter starting number--->55\n",
      "Enter last number--->99\n",
      "58\n"
     ]
    }
   ],
   "source": [
    "#Generating random number(INTEGER) between given numbers from user side\n",
    "\n",
    "a=int(input(\"Enter starting number--->\"))\n",
    "b=int(input(\"Enter last number--->\"))\n",
    "\n",
    "import random\n",
    "n = random.randint(a,b)\n",
    "print(n)"
   ]
  },
  {
   "cell_type": "code",
   "execution_count": null,
   "id": "0a43e80b",
   "metadata": {},
   "outputs": [],
   "source": []
  }
 ],
 "metadata": {
  "kernelspec": {
   "display_name": "Python 3",
   "language": "python",
   "name": "python3"
  },
  "language_info": {
   "codemirror_mode": {
    "name": "ipython",
    "version": 3
   },
   "file_extension": ".py",
   "mimetype": "text/x-python",
   "name": "python",
   "nbconvert_exporter": "python",
   "pygments_lexer": "ipython3",
   "version": "3.8.8"
  }
 },
 "nbformat": 4,
 "nbformat_minor": 5
}
