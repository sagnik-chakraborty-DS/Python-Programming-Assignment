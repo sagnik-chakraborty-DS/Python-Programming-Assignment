{
 "cells": [
  {
   "cell_type": "code",
   "execution_count": null,
   "id": "05d40965",
   "metadata": {},
   "outputs": [],
   "source": []
  },
  {
   "cell_type": "markdown",
   "id": "059656c9",
   "metadata": {},
   "source": [
    "1.\tWrite a Python Program to Find LCM?"
   ]
  },
  {
   "cell_type": "code",
   "execution_count": 1,
   "id": "5c1227a5",
   "metadata": {},
   "outputs": [],
   "source": [
    "#We know the formulla {LCM (a,b) × HCF (a,b) = a × b}\n",
    "#Use this Formulla to find HCF"
   ]
  },
  {
   "cell_type": "markdown",
   "id": "e5893170",
   "metadata": {},
   "source": [
    "# LCM (With Out Using Formulla)"
   ]
  },
  {
   "cell_type": "code",
   "execution_count": 5,
   "id": "cf43aa3c",
   "metadata": {},
   "outputs": [
    {
     "name": "stdout",
     "output_type": "stream",
     "text": [
      "enter first number8\n",
      "enter second number24\n",
      "List of  8 table is  [8, 16, 24, 32, 40, 48, 56, 64, 72, 80, 88, 96, 104, 112, 120, 128, 136, 144, 152]\n",
      "List of  24 table is  [24, 48, 72, 96, 120, 144, 168, 192, 216, 240, 264, 288, 312, 336, 360, 384, 408, 432, 456]\n",
      "\n",
      "\n",
      "LCM is---> 24\n"
     ]
    }
   ],
   "source": [
    "a=int(input(\"enter first number\"))\n",
    "b=int(input(\"enter second number\"))\n",
    "#here i create 2 empty list and put all number (table) inside\n",
    "l1=[]\n",
    "l2=[]\n",
    "\n",
    "i=1\n",
    "\n",
    "while i<20:\n",
    "    l1.insert(i,(a*i))\n",
    "    l2.insert(i,(b*i))\n",
    "    i=i+1\n",
    "\n",
    "\n",
    "    \n",
    "print(\"List of \",a,\"table is \",l1)\n",
    "print(\"List of \",b,\"table is \",l2)\n",
    "\n",
    "\n",
    "#Here we put all common factors inside list\n",
    "list=[]\n",
    "for i in l1:\n",
    "    for k in l2:\n",
    "        if i==k:\n",
    "            list.append(i)\n",
    "\n",
    "            \n",
    "#Fetch lowest common factor from list\n",
    "print(\"\\n\")\n",
    "print(\"LCM is--->\",min(list))\n",
    "            "
   ]
  },
  {
   "cell_type": "markdown",
   "id": "c21fe427",
   "metadata": {},
   "source": [
    "# LCM (Using Formulla)"
   ]
  },
  {
   "cell_type": "code",
   "execution_count": 3,
   "id": "94255ae1",
   "metadata": {},
   "outputs": [
    {
     "name": "stdout",
     "output_type": "stream",
     "text": [
      "Enter the first number: 8\n",
      "Enter the second number: 62\n",
      "First Number is:  8\n",
      "Second Number is:  62\n",
      "LCM of the two numbers is:  248\n"
     ]
    }
   ],
   "source": [
    "a = int(input(\"Enter the first number: \"))\n",
    "b = int(input(\"Enter the second number: \"))\n",
    " \n",
    "HCF = 1\n",
    " \n",
    "for i in range(2,a+1):\n",
    "    if(a%i==0 and b%i==0):\n",
    "        HCF = i\n",
    " \n",
    "print(\"First Number is: \",a)\n",
    "print(\"Second Number is: \",b)\n",
    " \n",
    "LCM = int((a*b)/(HCF))\n",
    "print(\"LCM of the two numbers is: \",LCM)"
   ]
  },
  {
   "cell_type": "markdown",
   "id": "5feebbbf",
   "metadata": {},
   "source": [
    "2.\tWrite a Python Program to Find HCF?"
   ]
  },
  {
   "cell_type": "markdown",
   "id": "f8c2a9eb",
   "metadata": {},
   "source": [
    "# HCF (Using Formulla)"
   ]
  },
  {
   "cell_type": "code",
   "execution_count": 8,
   "id": "8568a0a5",
   "metadata": {},
   "outputs": [
    {
     "name": "stdout",
     "output_type": "stream",
     "text": [
      "enter first number26\n",
      "enter second number22\n",
      "List of  26 table is  [26, 52, 78, 104, 130, 156, 182, 208, 234, 260, 286, 312, 338, 364, 390, 416, 442, 468, 494]\n",
      "List of  22 table is  [22, 44, 66, 88, 110, 132, 154, 176, 198, 220, 242, 264, 286, 308, 330, 352, 374, 396, 418]\n",
      "\n",
      "\n",
      "LCM is---> 286\n",
      "We use formulla LCM (a,b) × HCF (a,b) = a × b \n",
      "HCF of  26 and 22 is 2.0\n"
     ]
    }
   ],
   "source": [
    "a=int(input(\"enter first number\"))\n",
    "b=int(input(\"enter second number\"))\n",
    "#here i create 2 empty list and put all number (table) inside\n",
    "l1=[]\n",
    "l2=[]\n",
    "\n",
    "i=1\n",
    "\n",
    "while i<20:\n",
    "    l1.insert(i,(a*i))\n",
    "    l2.insert(i,(b*i))\n",
    "    i=i+1\n",
    "\n",
    "\n",
    "    \n",
    "print(\"List of \",a,\"table is \",l1)\n",
    "print(\"List of \",b,\"table is \",l2)\n",
    "\n",
    "\n",
    "#Here we put all common factors inside list\n",
    "list=[]\n",
    "for i in l1:\n",
    "    for k in l2:\n",
    "        if i==k:\n",
    "            list.append(i)\n",
    "\n",
    "            \n",
    "#Fetch lowest common factor from list\n",
    "print(\"\\n\")\n",
    "print(\"LCM is--->\",min(list))\n",
    "\n",
    "\n",
    "\n",
    "\n",
    "print(\"We use formulla LCM (a,b) × HCF (a,b) = a × b \")\n",
    "print(\"HCF of \",a,\"and\",b,\"is\",(a*b)/min(list))"
   ]
  },
  {
   "cell_type": "markdown",
   "id": "200c5669",
   "metadata": {},
   "source": [
    "# HCF(Without using Formulla)"
   ]
  },
  {
   "cell_type": "code",
   "execution_count": 9,
   "id": "3ac8399c",
   "metadata": {},
   "outputs": [
    {
     "name": "stdout",
     "output_type": "stream",
     "text": [
      "Enter the first number: 26\n",
      "Enter the second number: 24\n",
      "First Number is:  26\n",
      "Second Number is:  24\n",
      "HCF of the numbers is:  2\n"
     ]
    }
   ],
   "source": [
    "a = int(input(\"Enter the first number: \"))\n",
    "b = int(input(\"Enter the second number: \"))\n",
    " \n",
    "HCF = 1\n",
    " \n",
    "for i in range(2,a+1):\n",
    "    if(a%i==0 and b%i==0):\n",
    "        HCF = i\n",
    " \n",
    "print(\"First Number is: \",a)\n",
    "print(\"Second Number is: \",b)\n",
    "print(\"HCF of the numbers is: \",HCF)\n"
   ]
  },
  {
   "cell_type": "markdown",
   "id": "0a0e65d5",
   "metadata": {},
   "source": [
    "3.\tWrite a Python Program to Convert Decimal to Binary, Octal and Hexadecimal?"
   ]
  },
  {
   "cell_type": "code",
   "execution_count": 10,
   "id": "0b72a168",
   "metadata": {},
   "outputs": [
    {
     "name": "stdout",
     "output_type": "stream",
     "text": [
      "The decimal value is 456\n",
      "0b111001000 in binary.\n",
      "0o710 in octal.\n",
      "0x1c8 in hexadecimal.\n"
     ]
    }
   ],
   "source": [
    "# Python program to convert decimal into other number systems\n",
    "dec = 456\n",
    "\n",
    "print(\"The decimal value is\", dec)\n",
    "print(bin(dec), \"in binary.\")\n",
    "print(oct(dec), \"in octal.\")\n",
    "print(hex(dec), \"in hexadecimal.\")\n"
   ]
  },
  {
   "cell_type": "markdown",
   "id": "6e878db7",
   "metadata": {},
   "source": [
    "4.\tWrite a Python Program To Find ASCII value of a character?"
   ]
  },
  {
   "cell_type": "code",
   "execution_count": 11,
   "id": "0771a149",
   "metadata": {},
   "outputs": [
    {
     "name": "stdout",
     "output_type": "stream",
     "text": [
      "Give the charactero\n",
      "The ASCII value of 'o' is 111\n"
     ]
    }
   ],
   "source": [
    "# Program to find the ASCII value of the given character\n",
    "\n",
    "c =input(\"Give the character\")\n",
    "print(\"The ASCII value of '\" + c + \"' is\", ord(c))\n"
   ]
  },
  {
   "cell_type": "code",
   "execution_count": null,
   "id": "30274edc",
   "metadata": {},
   "outputs": [],
   "source": []
  },
  {
   "cell_type": "code",
   "execution_count": null,
   "id": "8b99ebdd",
   "metadata": {},
   "outputs": [],
   "source": []
  },
  {
   "cell_type": "markdown",
   "id": "ab19b16c",
   "metadata": {},
   "source": [
    "5.\tWrite a Python Program to Make a Simple Calculator with 4 basic mathematical operations?"
   ]
  },
  {
   "cell_type": "code",
   "execution_count": 12,
   "id": "a03f3cf6",
   "metadata": {},
   "outputs": [
    {
     "name": "stdout",
     "output_type": "stream",
     "text": [
      "Press + for summation, * for multiplication, / for division, - for Subtraction. Given input is--->+\n",
      "Enter First Number  89\n",
      "Enter Second Number  85\n",
      "summation of  89 and 85  is-->  174\n"
     ]
    }
   ],
   "source": [
    "math_operation=input(\"Press + for summation, * for multiplication, / for division, - for Subtraction. Given input is--->\")\n",
    "\n",
    "a=int(input(\"Enter First Number  \"))\n",
    "b=int(input(\"Enter Second Number  \"))\n",
    "\n",
    "\n",
    "if math_operation==\"+\":\n",
    "    print(\"summation of \",a,\"and\",b,\" is--> \",a+b)\n",
    "elif math_operation==\"*\":\n",
    "    print(\"multiplication of \",a,\"and\",b,\" is--> \",a*b)\n",
    "elif math_operation==\"/\":\n",
    "    print(\"division of \",a,\"and\",b,\" is--> \",a/b)\n",
    "elif math_operation==\"-\":\n",
    "    print(\"subtraction of \",a,\"and\",b,\" is--> \",a-b)\n",
    "    "
   ]
  },
  {
   "cell_type": "code",
   "execution_count": null,
   "id": "4bae590d",
   "metadata": {},
   "outputs": [],
   "source": []
  },
  {
   "cell_type": "code",
   "execution_count": null,
   "id": "37b25742",
   "metadata": {},
   "outputs": [],
   "source": []
  },
  {
   "cell_type": "code",
   "execution_count": null,
   "id": "16ade6ea",
   "metadata": {},
   "outputs": [],
   "source": []
  }
 ],
 "metadata": {
  "kernelspec": {
   "display_name": "Python 3",
   "language": "python",
   "name": "python3"
  },
  "language_info": {
   "codemirror_mode": {
    "name": "ipython",
    "version": 3
   },
   "file_extension": ".py",
   "mimetype": "text/x-python",
   "name": "python",
   "nbconvert_exporter": "python",
   "pygments_lexer": "ipython3",
   "version": "3.8.8"
  }
 },
 "nbformat": 4,
 "nbformat_minor": 5
}
