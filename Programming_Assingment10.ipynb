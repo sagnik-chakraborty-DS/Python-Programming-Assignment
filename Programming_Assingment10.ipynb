{
 "cells": [
  {
   "cell_type": "markdown",
   "id": "ebdd03d9",
   "metadata": {},
   "source": [
    "# 1.\tWrite a Python program to find sum of elements in list?"
   ]
  },
  {
   "cell_type": "code",
   "execution_count": 1,
   "id": "36519543",
   "metadata": {},
   "outputs": [],
   "source": [
    "list=[1,2,3,44,5,66,2]"
   ]
  },
  {
   "cell_type": "markdown",
   "id": "7d862328",
   "metadata": {},
   "source": [
    "##First method"
   ]
  },
  {
   "cell_type": "code",
   "execution_count": 2,
   "id": "271e51dc",
   "metadata": {},
   "outputs": [
    {
     "name": "stdout",
     "output_type": "stream",
     "text": [
      "sum of the list is ---> 123\n"
     ]
    }
   ],
   "source": [
    "a=0\n",
    "for i in list:\n",
    "    a=a+i\n",
    "\n",
    "print(\"sum of the list is --->\",a)    "
   ]
  },
  {
   "cell_type": "markdown",
   "id": "1f9dba34",
   "metadata": {},
   "source": [
    "##Second method"
   ]
  },
  {
   "cell_type": "code",
   "execution_count": 3,
   "id": "56d81d36",
   "metadata": {},
   "outputs": [
    {
     "data": {
      "text/plain": [
       "123"
      ]
     },
     "execution_count": 3,
     "metadata": {},
     "output_type": "execute_result"
    }
   ],
   "source": [
    "sum(list)"
   ]
  },
  {
   "cell_type": "markdown",
   "id": "930c68c1",
   "metadata": {},
   "source": [
    "# 2.\tWrite a Python program to  Multiply all numbers in the list?"
   ]
  },
  {
   "cell_type": "code",
   "execution_count": 4,
   "id": "43339a4f",
   "metadata": {},
   "outputs": [
    {
     "data": {
      "text/plain": [
       "[1, 2, 3, 44, 5, 66, 2]"
      ]
     },
     "execution_count": 4,
     "metadata": {},
     "output_type": "execute_result"
    }
   ],
   "source": [
    "list"
   ]
  },
  {
   "cell_type": "code",
   "execution_count": 5,
   "id": "ba2949ce",
   "metadata": {},
   "outputs": [
    {
     "name": "stdout",
     "output_type": "stream",
     "text": [
      "multiplication of list is--> 174240\n"
     ]
    }
   ],
   "source": [
    "mul=1\n",
    "for i in list:\n",
    "    mul=mul*i\n",
    "\n",
    "print(\"multiplication of list is-->\",mul)"
   ]
  },
  {
   "cell_type": "markdown",
   "id": "1eeadbb7",
   "metadata": {},
   "source": [
    "# 3.\tWrite a Python program to find smallest number in a list?"
   ]
  },
  {
   "cell_type": "code",
   "execution_count": 6,
   "id": "6e60d8f8",
   "metadata": {},
   "outputs": [
    {
     "data": {
      "text/plain": [
       "[1, 2, 3, 44, 5, 66, 2]"
      ]
     },
     "execution_count": 6,
     "metadata": {},
     "output_type": "execute_result"
    }
   ],
   "source": [
    "list"
   ]
  },
  {
   "cell_type": "code",
   "execution_count": 7,
   "id": "8e0be24e",
   "metadata": {},
   "outputs": [],
   "source": [
    "list.sort()"
   ]
  },
  {
   "cell_type": "code",
   "execution_count": 8,
   "id": "5b585e82",
   "metadata": {},
   "outputs": [
    {
     "name": "stdout",
     "output_type": "stream",
     "text": [
      "Smallest number insude the list is ----> 1\n"
     ]
    }
   ],
   "source": [
    "print(\"Smallest number insude the list is ---->\",list[0])"
   ]
  },
  {
   "cell_type": "markdown",
   "id": "82ce42d3",
   "metadata": {},
   "source": [
    "# 4.\tWrite a Python program to find largest number in a list?"
   ]
  },
  {
   "cell_type": "code",
   "execution_count": 9,
   "id": "d200d2bf",
   "metadata": {},
   "outputs": [],
   "source": [
    "list=[1, 2, 3, 44, 5, 66, 2]"
   ]
  },
  {
   "cell_type": "code",
   "execution_count": 10,
   "id": "8fe1e70e",
   "metadata": {},
   "outputs": [],
   "source": [
    "list.sort()"
   ]
  },
  {
   "cell_type": "code",
   "execution_count": 11,
   "id": "ac0178fb",
   "metadata": {},
   "outputs": [
    {
     "name": "stdout",
     "output_type": "stream",
     "text": [
      "Max number inside the list is---> 66\n"
     ]
    }
   ],
   "source": [
    "print(\"Max number inside the list is--->\",list[len(list)-1])"
   ]
  },
  {
   "cell_type": "markdown",
   "id": "1017d89d",
   "metadata": {},
   "source": [
    "# 5.\tWrite a Python program to find second largest number in a list?"
   ]
  },
  {
   "cell_type": "code",
   "execution_count": 12,
   "id": "722a1046",
   "metadata": {},
   "outputs": [],
   "source": [
    "list=[1, 2, 3, 44, 5, 66, 2]"
   ]
  },
  {
   "cell_type": "code",
   "execution_count": 13,
   "id": "46b5c334",
   "metadata": {},
   "outputs": [],
   "source": [
    "list.sort()"
   ]
  },
  {
   "cell_type": "code",
   "execution_count": 14,
   "id": "92efdbb1",
   "metadata": {},
   "outputs": [
    {
     "name": "stdout",
     "output_type": "stream",
     "text": [
      "Second largest number inside the list is---> 44\n"
     ]
    }
   ],
   "source": [
    "print(\"Second largest number inside the list is--->\",list[len(list)-2])"
   ]
  },
  {
   "cell_type": "markdown",
   "id": "c7033643",
   "metadata": {},
   "source": [
    "# 6.\tWrite a Python program to find N largest elements from a list?"
   ]
  },
  {
   "cell_type": "code",
   "execution_count": 15,
   "id": "b1b05eb4",
   "metadata": {},
   "outputs": [],
   "source": [
    "def n_large(list,n):\n",
    "    \"\"\"\n",
    "    list=Input list\n",
    "    n=Nth highest number  \n",
    "    \"\"\"\n",
    "    list.sort()\n",
    "    list.reverse()\n",
    "    print(\"First \",n,\" largest element of the list are\")\n",
    "    for i in range(0,n):\n",
    "        print(list[i])"
   ]
  },
  {
   "cell_type": "code",
   "execution_count": 16,
   "id": "e2bed500",
   "metadata": {},
   "outputs": [
    {
     "name": "stdout",
     "output_type": "stream",
     "text": [
      "First  3  largest element of the list are\n",
      "53222\n",
      "45452\n",
      "333\n"
     ]
    }
   ],
   "source": [
    "n_large([55,44,66,22,333,15,4,2,3,4,56,53222,45452],3)"
   ]
  },
  {
   "cell_type": "markdown",
   "id": "3b9e73cb",
   "metadata": {},
   "source": [
    "# 7.\tWrite a Python program to print even numbers in a list?"
   ]
  },
  {
   "cell_type": "code",
   "execution_count": 29,
   "id": "c8ea4058",
   "metadata": {},
   "outputs": [
    {
     "name": "stdout",
     "output_type": "stream",
     "text": [
      "Random number list is : [47, 3, 14, 23, 26, 41, 9]\n"
     ]
    }
   ],
   "source": [
    "# Python3 code to demonstrate\n",
    "# to generate random number list\n",
    "# using list comprehension + randrange()\n",
    "import random\n",
    "\n",
    "# using list comprehension + randrange()\n",
    "# to generate random number list\n",
    "res = [random.randrange(1, 50, 1) for i in range(7)]\n",
    "\n",
    "# printing result\n",
    "print (\"Random number list is : \" + str(res))\n"
   ]
  },
  {
   "cell_type": "code",
   "execution_count": 30,
   "id": "b1ce93ca",
   "metadata": {},
   "outputs": [
    {
     "name": "stdout",
     "output_type": "stream",
     "text": [
      "Even Number inside list res are-->\n",
      "14\n",
      "26\n"
     ]
    }
   ],
   "source": [
    "print(\"Even Number inside list res are-->\")\n",
    "for i in res:\n",
    "    if i%2==0:\n",
    "        print(i)"
   ]
  },
  {
   "cell_type": "markdown",
   "id": "68f32f36",
   "metadata": {},
   "source": [
    "# 8.\tWrite a Python program to print odd numbers in a List?"
   ]
  },
  {
   "cell_type": "code",
   "execution_count": 19,
   "id": "8f387b5c",
   "metadata": {},
   "outputs": [
    {
     "name": "stdout",
     "output_type": "stream",
     "text": [
      "Random number list is : [46, 45, 12, 8, 30, 34, 11, 45, 16, 12]\n"
     ]
    }
   ],
   "source": [
    "res = [random.randrange(1, 50, 1) for i in range(10)]\n",
    "\n",
    "# printing result\n",
    "print (\"Random number list is : \" + str(res))\n"
   ]
  },
  {
   "cell_type": "code",
   "execution_count": 20,
   "id": "41eedb50",
   "metadata": {},
   "outputs": [
    {
     "name": "stdout",
     "output_type": "stream",
     "text": [
      "Odd Number inside list res are-->\n",
      "45\n",
      "11\n",
      "45\n"
     ]
    }
   ],
   "source": [
    "print(\"Odd Number inside list res are-->\")\n",
    "for i in res:\n",
    "    if i%2!=0:\n",
    "        print(i)"
   ]
  },
  {
   "cell_type": "markdown",
   "id": "8b27fc93",
   "metadata": {},
   "source": [
    "# 9.\tWrite a Python program to Remove empty List from List?"
   ]
  },
  {
   "cell_type": "code",
   "execution_count": 21,
   "id": "24f93616",
   "metadata": {},
   "outputs": [],
   "source": [
    "#this list consist empty list\n",
    "list=[1,22,33,[],[12,2,3],44,5,6,(5,2,3),[]]"
   ]
  },
  {
   "cell_type": "code",
   "execution_count": 22,
   "id": "a72dbb07",
   "metadata": {},
   "outputs": [],
   "source": [
    "for i in range(0,len(list)-1):\n",
    "    if list[i]==[]:\n",
    "        list.pop(i)"
   ]
  },
  {
   "cell_type": "code",
   "execution_count": 23,
   "id": "27670054",
   "metadata": {},
   "outputs": [
    {
     "name": "stdout",
     "output_type": "stream",
     "text": [
      "this list does not contain empty list\n"
     ]
    },
    {
     "data": {
      "text/plain": [
       "[1, 22, 33, [12, 2, 3], 44, 5, 6, (5, 2, 3)]"
      ]
     },
     "execution_count": 23,
     "metadata": {},
     "output_type": "execute_result"
    }
   ],
   "source": [
    "print(\"this list does not contain empty list\")\n",
    "list"
   ]
  },
  {
   "cell_type": "markdown",
   "id": "3e810046",
   "metadata": {},
   "source": [
    "# 10.\tWrite a Python program to Cloning or Copying a list?"
   ]
  },
  {
   "cell_type": "code",
   "execution_count": 24,
   "id": "1f895afe",
   "metadata": {},
   "outputs": [
    {
     "name": "stdout",
     "output_type": "stream",
     "text": [
      "Random number list is : [74, 48, 74, 12, 78, 62, 84, 73, 68, 71, 9, 70, 36, 27, 98, 44, 32, 86, 85, 25]\n"
     ]
    }
   ],
   "source": [
    "list_original= [random.randrange(1,100) for i in range(20)]\n",
    "print (\"Random number list is : \" + str(list_original))"
   ]
  },
  {
   "cell_type": "code",
   "execution_count": 25,
   "id": "67b91c04",
   "metadata": {},
   "outputs": [],
   "source": [
    "list_clone=[]\n",
    "for i in range(0,len(list_original)):\n",
    "    list_clone.insert(i,list_original[i])"
   ]
  },
  {
   "cell_type": "code",
   "execution_count": 26,
   "id": "b68a07fb",
   "metadata": {},
   "outputs": [
    {
     "name": "stdout",
     "output_type": "stream",
     "text": [
      "Clone list is -->\n",
      " [74, 48, 74, 12, 78, 62, 84, 73, 68, 71, 9, 70, 36, 27, 98, 44, 32, 86, 85, 25]\n"
     ]
    }
   ],
   "source": [
    "print(\"Clone list is -->\\n\",list_clone)"
   ]
  },
  {
   "cell_type": "markdown",
   "id": "99920742",
   "metadata": {},
   "source": [
    "# 11.\tWrite a Python program to Count occurrences of an element in a list?\n"
   ]
  },
  {
   "cell_type": "code",
   "execution_count": 27,
   "id": "83f62d50",
   "metadata": {},
   "outputs": [],
   "source": [
    "list=[11,22,22,11,44,11,456,225,522]"
   ]
  },
  {
   "cell_type": "code",
   "execution_count": 28,
   "id": "1e291b1c",
   "metadata": {},
   "outputs": [
    {
     "name": "stdout",
     "output_type": "stream",
     "text": [
      "occurrences of 11 inside list is-->\n"
     ]
    },
    {
     "data": {
      "text/plain": [
       "3"
      ]
     },
     "execution_count": 28,
     "metadata": {},
     "output_type": "execute_result"
    }
   ],
   "source": [
    "print(\"occurrences of 11 inside list is-->\")\n",
    "list.count(11)"
   ]
  },
  {
   "cell_type": "code",
   "execution_count": null,
   "id": "1fb47798",
   "metadata": {},
   "outputs": [],
   "source": []
  }
 ],
 "metadata": {
  "kernelspec": {
   "display_name": "Python 3",
   "language": "python",
   "name": "python3"
  },
  "language_info": {
   "codemirror_mode": {
    "name": "ipython",
    "version": 3
   },
   "file_extension": ".py",
   "mimetype": "text/x-python",
   "name": "python",
   "nbconvert_exporter": "python",
   "pygments_lexer": "ipython3",
   "version": "3.8.8"
  }
 },
 "nbformat": 4,
 "nbformat_minor": 5
}
