{
 "cells": [
  {
   "cell_type": "markdown",
   "id": "5127e9d4",
   "metadata": {},
   "source": [
    "# 1.\tWrite a Python program to find words which are greater than given length k?"
   ]
  },
  {
   "cell_type": "code",
   "execution_count": 1,
   "id": "687911b2",
   "metadata": {},
   "outputs": [],
   "source": [
    "string=\"To reach a conclusion that the black hole had the ability to give the required extreme condition to create elements like gold, the scientists compared the black hole condition to other cosmic conditions like neutron star collisions, reported Science Alert.\""
   ]
  },
  {
   "cell_type": "code",
   "execution_count": 2,
   "id": "19890a5f",
   "metadata": {},
   "outputs": [],
   "source": [
    "import re"
   ]
  },
  {
   "cell_type": "code",
   "execution_count": 3,
   "id": "69821751",
   "metadata": {},
   "outputs": [],
   "source": [
    "a=re.findall(r'\\w+',string)"
   ]
  },
  {
   "cell_type": "code",
   "execution_count": 4,
   "id": "d5f5a7ce",
   "metadata": {},
   "outputs": [],
   "source": [
    "list=[]"
   ]
  },
  {
   "cell_type": "code",
   "execution_count": 5,
   "id": "00b9a426",
   "metadata": {},
   "outputs": [],
   "source": [
    "def foo(k):\n",
    "    for i in a:\n",
    "        if k<len(i):\n",
    "            list.append(i)\n",
    "\n",
    "    "
   ]
  },
  {
   "cell_type": "code",
   "execution_count": 6,
   "id": "db327907",
   "metadata": {},
   "outputs": [],
   "source": [
    "foo(5)"
   ]
  },
  {
   "cell_type": "code",
   "execution_count": 7,
   "id": "4174a0b5",
   "metadata": {},
   "outputs": [
    {
     "data": {
      "text/plain": [
       "['conclusion',\n",
       " 'ability',\n",
       " 'required',\n",
       " 'extreme',\n",
       " 'condition',\n",
       " 'create',\n",
       " 'elements',\n",
       " 'scientists',\n",
       " 'compared',\n",
       " 'condition',\n",
       " 'cosmic',\n",
       " 'conditions',\n",
       " 'neutron',\n",
       " 'collisions',\n",
       " 'reported',\n",
       " 'Science']"
      ]
     },
     "execution_count": 7,
     "metadata": {},
     "output_type": "execute_result"
    }
   ],
   "source": [
    "#Words greater than length 5\n",
    "list"
   ]
  },
  {
   "cell_type": "markdown",
   "id": "b495bf04",
   "metadata": {},
   "source": [
    "# 2.\tWrite a Python program for removing i-th character from a string?"
   ]
  },
  {
   "cell_type": "code",
   "execution_count": 8,
   "id": "1022bb7f",
   "metadata": {},
   "outputs": [],
   "source": [
    "stri=\"this is An example of string\""
   ]
  },
  {
   "cell_type": "code",
   "execution_count": 9,
   "id": "c9ecd316",
   "metadata": {},
   "outputs": [],
   "source": [
    "def char_rem(i):\n",
    "    a=stri.replace(\" \", \"\")[:i]\n",
    "    b=stri.replace(\" \", \"\")[i+1:]\n",
    "    return a+b"
   ]
  },
  {
   "cell_type": "code",
   "execution_count": 10,
   "id": "9aa020ae",
   "metadata": {},
   "outputs": [
    {
     "data": {
      "text/plain": [
       "'tisisAnexampleofstring'"
      ]
     },
     "execution_count": 10,
     "metadata": {},
     "output_type": "execute_result"
    }
   ],
   "source": [
    "char_rem(1)"
   ]
  },
  {
   "cell_type": "markdown",
   "id": "6e479ffb",
   "metadata": {},
   "source": [
    "#another method"
   ]
  },
  {
   "cell_type": "code",
   "execution_count": 11,
   "id": "29fd25b7",
   "metadata": {},
   "outputs": [],
   "source": [
    "def char_rem1(i):\n",
    "    a=stri[:i]\n",
    "    b=stri[i+1:]\n",
    "    return a+b"
   ]
  },
  {
   "cell_type": "code",
   "execution_count": 12,
   "id": "58edca4e",
   "metadata": {},
   "outputs": [
    {
     "data": {
      "text/plain": [
       "'ths is An example of string'"
      ]
     },
     "execution_count": 12,
     "metadata": {},
     "output_type": "execute_result"
    }
   ],
   "source": [
    "char_rem1(2)"
   ]
  },
  {
   "cell_type": "markdown",
   "id": "79162d68",
   "metadata": {},
   "source": [
    "# 3.\tWrite a Python program to split and join a string?"
   ]
  },
  {
   "cell_type": "code",
   "execution_count": 13,
   "id": "481290c0",
   "metadata": {},
   "outputs": [],
   "source": [
    "str=\"program to split and join a string\""
   ]
  },
  {
   "cell_type": "code",
   "execution_count": 14,
   "id": "94f1d97c",
   "metadata": {},
   "outputs": [],
   "source": [
    "def split_string(string):\n",
    "  \n",
    "    # Split the string based on space delimiter\n",
    "    list_string = string.split(' ')\n",
    "      \n",
    "    return list_string"
   ]
  },
  {
   "cell_type": "code",
   "execution_count": 15,
   "id": "ca173c34",
   "metadata": {},
   "outputs": [
    {
     "data": {
      "text/plain": [
       "['program', 'to', 'split', 'and', 'join', 'a', 'string']"
      ]
     },
     "execution_count": 15,
     "metadata": {},
     "output_type": "execute_result"
    }
   ],
   "source": [
    "split_string(str)"
   ]
  },
  {
   "cell_type": "code",
   "execution_count": 16,
   "id": "9db8affb",
   "metadata": {},
   "outputs": [],
   "source": [
    "def join_string(list_string):\n",
    "  \n",
    "    # Join the string based on '-' delimiter\n",
    "    string = ' '.join(list_string)\n",
    "      \n",
    "    return string"
   ]
  },
  {
   "cell_type": "code",
   "execution_count": 17,
   "id": "bef800fa",
   "metadata": {},
   "outputs": [
    {
     "data": {
      "text/plain": [
       "'program to split and join a string'"
      ]
     },
     "execution_count": 17,
     "metadata": {},
     "output_type": "execute_result"
    }
   ],
   "source": [
    "join_string(['program', 'to', 'split', 'and', 'join', 'a', 'string'])"
   ]
  },
  {
   "cell_type": "markdown",
   "id": "caf61c3b",
   "metadata": {},
   "source": [
    "# 4.\tWrite a Python to check if a given string is binary string or not?"
   ]
  },
  {
   "cell_type": "code",
   "execution_count": 18,
   "id": "29774dde",
   "metadata": {},
   "outputs": [],
   "source": [
    "def check(string) :\n",
    " \n",
    "    # set function convert string\n",
    "    # into set of characters .\n",
    "    p = set(string)\n",
    " \n",
    "    # declare set of '0', '1' .\n",
    "    s = {'0', '1'}\n",
    " \n",
    "    # check set p is same as set s\n",
    "    # or set p contains only '0'\n",
    "    # or set p contains only '1'\n",
    "    # or not, if any one condition\n",
    "    # is true then string is accepted\n",
    "    # otherwise not .\n",
    "    if s == p or p == {'0'} or p == {'1'}:\n",
    "        print(\"Yes\")\n",
    "    else :\n",
    "        print(\"No\")"
   ]
  },
  {
   "cell_type": "code",
   "execution_count": 19,
   "id": "03d173ef",
   "metadata": {},
   "outputs": [],
   "source": [
    "str1=\"0110101010101111\"\n",
    "str2=\"010101dsadasd01\""
   ]
  },
  {
   "cell_type": "code",
   "execution_count": 20,
   "id": "fff8a786",
   "metadata": {},
   "outputs": [
    {
     "name": "stdout",
     "output_type": "stream",
     "text": [
      "Yes\n"
     ]
    }
   ],
   "source": [
    "check(str1)"
   ]
  },
  {
   "cell_type": "code",
   "execution_count": 21,
   "id": "29381009",
   "metadata": {},
   "outputs": [
    {
     "name": "stdout",
     "output_type": "stream",
     "text": [
      "No\n"
     ]
    }
   ],
   "source": [
    "check(str2)"
   ]
  },
  {
   "cell_type": "markdown",
   "id": "18465850",
   "metadata": {},
   "source": [
    "# 5.\tWrite a Python program to find uncommon words from two Strings?"
   ]
  },
  {
   "cell_type": "code",
   "execution_count": 22,
   "id": "94aa056a",
   "metadata": {},
   "outputs": [],
   "source": [
    "str1=\"Write a Python program to find uncommon words from two Strings\"\n",
    "str2=\" Write a Python to check if a given string is binary string or not\""
   ]
  },
  {
   "cell_type": "code",
   "execution_count": 23,
   "id": "424dd503",
   "metadata": {},
   "outputs": [],
   "source": [
    "str1=str1.lower()\n",
    "str2=str2.lower()"
   ]
  },
  {
   "cell_type": "code",
   "execution_count": 24,
   "id": "25637f3c",
   "metadata": {},
   "outputs": [],
   "source": [
    "list_str1=re.findall(r'\\w+',str1)\n",
    "list_str2=re.findall(r'\\w+',str2)"
   ]
  },
  {
   "cell_type": "code",
   "execution_count": 25,
   "id": "445e4c17",
   "metadata": {},
   "outputs": [],
   "source": [
    "list_total=list_str1+list_str2"
   ]
  },
  {
   "cell_type": "code",
   "execution_count": 26,
   "id": "4b4a131b",
   "metadata": {},
   "outputs": [],
   "source": [
    "list=[]\n",
    "for i in list_total:\n",
    "    if list_total.count(i)<=1:\n",
    "        list.append(i)\n",
    "    "
   ]
  },
  {
   "cell_type": "code",
   "execution_count": 27,
   "id": "af0dde26",
   "metadata": {},
   "outputs": [
    {
     "data": {
      "text/plain": [
       "['program',\n",
       " 'find',\n",
       " 'uncommon',\n",
       " 'words',\n",
       " 'from',\n",
       " 'two',\n",
       " 'strings',\n",
       " 'check',\n",
       " 'if',\n",
       " 'given',\n",
       " 'is',\n",
       " 'binary',\n",
       " 'or',\n",
       " 'not']"
      ]
     },
     "execution_count": 27,
     "metadata": {},
     "output_type": "execute_result"
    }
   ],
   "source": [
    "list"
   ]
  },
  {
   "cell_type": "markdown",
   "id": "af9be15e",
   "metadata": {},
   "source": [
    "# 6.\tWrite a Python to find all duplicate characters in string?"
   ]
  },
  {
   "cell_type": "code",
   "execution_count": 28,
   "id": "7e8d82fd",
   "metadata": {},
   "outputs": [],
   "source": [
    "string=\"To reach a conclusion that the black hole had the ability to give the required extreme condition to create elements like gold, the scientists compared the black hole condition to other cosmic conditions like neutron star collisions, reported Science Alert.\""
   ]
  },
  {
   "cell_type": "code",
   "execution_count": 29,
   "id": "4cbf19b1",
   "metadata": {},
   "outputs": [],
   "source": [
    "list_str=re.findall(r'\\w+',string)"
   ]
  },
  {
   "cell_type": "code",
   "execution_count": 30,
   "id": "69687f5f",
   "metadata": {},
   "outputs": [],
   "source": [
    "list=[]\n",
    "for i in list_str:\n",
    "    if list_str.count(i)>1:\n",
    "        list.append(i)\n",
    "    "
   ]
  },
  {
   "cell_type": "code",
   "execution_count": 31,
   "id": "4da0d16d",
   "metadata": {},
   "outputs": [
    {
     "name": "stdout",
     "output_type": "stream",
     "text": [
      "Duplicate of string\n"
     ]
    },
    {
     "data": {
      "text/plain": [
       "{'black', 'condition', 'hole', 'like', 'the', 'to'}"
      ]
     },
     "execution_count": 31,
     "metadata": {},
     "output_type": "execute_result"
    }
   ],
   "source": [
    "print(\"Duplicate of string\")\n",
    "set(list)"
   ]
  },
  {
   "cell_type": "markdown",
   "id": "8c8b7f02",
   "metadata": {},
   "source": [
    "# 7.\tWrite a Python Program to check if a string contains any special character?"
   ]
  },
  {
   "cell_type": "code",
   "execution_count": 32,
   "id": "858d43ba",
   "metadata": {},
   "outputs": [],
   "source": [
    "def run(string):\n",
    "  \n",
    "    # Make own character set and pass \n",
    "    # this as argument in compile method\n",
    "    regex = re.compile('[@_!#$%^&*()<>?/\\|}{~:]')\n",
    "      \n",
    "    # Pass the string in search \n",
    "    # method of regex object.    \n",
    "    if(regex.search(string) == None):\n",
    "        print(\"String is accepted\")\n",
    "          \n",
    "    else:\n",
    "        print(\"String is not accepted.\")\n",
    "      "
   ]
  },
  {
   "cell_type": "code",
   "execution_count": 33,
   "id": "04e587bd",
   "metadata": {},
   "outputs": [
    {
     "name": "stdout",
     "output_type": "stream",
     "text": [
      "String is accepted\n"
     ]
    }
   ],
   "source": [
    "run(\"hello world\")"
   ]
  },
  {
   "cell_type": "code",
   "execution_count": 34,
   "id": "8177a1eb",
   "metadata": {},
   "outputs": [
    {
     "name": "stdout",
     "output_type": "stream",
     "text": [
      "String is not accepted.\n"
     ]
    }
   ],
   "source": [
    "run(\"hello @#world\")"
   ]
  },
  {
   "cell_type": "code",
   "execution_count": null,
   "id": "7e6bed0e",
   "metadata": {},
   "outputs": [],
   "source": []
  }
 ],
 "metadata": {
  "kernelspec": {
   "display_name": "Python 3",
   "language": "python",
   "name": "python3"
  },
  "language_info": {
   "codemirror_mode": {
    "name": "ipython",
    "version": 3
   },
   "file_extension": ".py",
   "mimetype": "text/x-python",
   "name": "python",
   "nbconvert_exporter": "python",
   "pygments_lexer": "ipython3",
   "version": "3.8.8"
  }
 },
 "nbformat": 4,
 "nbformat_minor": 5
}
