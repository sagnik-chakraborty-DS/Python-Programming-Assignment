{
 "cells": [
  {
   "cell_type": "markdown",
   "id": "19537330",
   "metadata": {},
   "source": [
    "Question1. Write a function that stutters a word as if someone is struggling to read it. The first two letters are repeated twice with an ellipsis ... and space after each, and then the word is pronounced with a question mark ?.\n",
    "Examples\n",
    "stutter(\"incredible\") ➞ \"in... in... incredible?\"\n",
    "\n",
    "stutter(\"enthusiastic\") ➞ \"en... en... enthusiastic?\"\n",
    "\n",
    "stutter(\"outstanding\") ➞ \"ou... ou... outstanding?\"\n",
    "\n",
    "Hint :- Assume all input is in lower case and at least two characters long.\n"
   ]
  },
  {
   "cell_type": "code",
   "execution_count": 17,
   "id": "9a19d169",
   "metadata": {},
   "outputs": [],
   "source": [
    "def stutter(st):\n",
    "    st=st.lower()\n",
    "    print(st[0:2]+\"...\"+st[0:2]+\"...\"+st+\"?\")\n"
   ]
  },
  {
   "cell_type": "code",
   "execution_count": 18,
   "id": "75010673",
   "metadata": {},
   "outputs": [
    {
     "name": "stdout",
     "output_type": "stream",
     "text": [
      "en...en...enthusiastic?\n"
     ]
    }
   ],
   "source": [
    "stutter(\"enthusiastic\")"
   ]
  },
  {
   "cell_type": "markdown",
   "id": "04a5aa12",
   "metadata": {},
   "source": [
    "# Another method"
   ]
  },
  {
   "cell_type": "code",
   "execution_count": 19,
   "id": "668bc6dd",
   "metadata": {},
   "outputs": [
    {
     "name": "stdout",
     "output_type": "stream",
     "text": [
      "in... in... incredible?\n"
     ]
    }
   ],
   "source": [
    "def stutter(word):\n",
    "    s = word[:2]\n",
    "    return (2 * (s + '... ')) + word + '?'\n",
    "\n",
    "\n",
    "print(stutter(\"incredible\"))"
   ]
  },
  {
   "cell_type": "markdown",
   "id": "3b3f8558",
   "metadata": {},
   "source": [
    "Question 2.Create a function that takes an angle in radians and returns the corresponding angle in degrees rounded to one decimal place.\n",
    "Examples\n",
    "radians_to_degrees(1) ➞ 57.3\n",
    "\n",
    "radians_to_degrees(20) ➞ 1145.9\n",
    "\n",
    "radians_to_degrees(50) ➞ 2864.8\n"
   ]
  },
  {
   "cell_type": "code",
   "execution_count": 76,
   "id": "52d20149",
   "metadata": {},
   "outputs": [],
   "source": [
    "def radians_to_degrees(a):\n",
    "    b=22/7\n",
    "    c=180\n",
    "    print(\"radians_to_degrees\",a,\"➞\",round(((c/b)*a),1))"
   ]
  },
  {
   "cell_type": "code",
   "execution_count": 77,
   "id": "ea82fe10",
   "metadata": {},
   "outputs": [
    {
     "name": "stdout",
     "output_type": "stream",
     "text": [
      "radians_to_degrees 1 ➞ 57.3\n",
      "radians_to_degrees 20 ➞ 1145.5\n",
      "radians_to_degrees 50 ➞ 2863.6\n"
     ]
    }
   ],
   "source": [
    "radians_to_degrees(1)\n",
    "radians_to_degrees(20)\n",
    "radians_to_degrees(50)"
   ]
  },
  {
   "cell_type": "markdown",
   "id": "2b460fa0",
   "metadata": {},
   "source": [
    "Question 3. In this challenge, establish if a given integer num is a Curzon number. If 1 plus 2 elevated to num is exactly divisible by 1 plus 2 multiplied by num, then num is a Curzon number.\n",
    "Given a non-negative integer num, implement a function that returns True if num is a Curzon number, or False otherwise.\n",
    "Examples\n",
    "is_curzon(5) ➞ True\n",
    "# 2 ** 5 + 1 = 33\n",
    "# 2 * 5 + 1 = 11\n",
    "# 33 is a multiple of 11\n",
    "\n",
    "is_curzon(10) ➞ False\n",
    "# 2 ** 10 + 1 = 1025\n",
    "# 2 * 10 + 1 = 21\n",
    "# 1025 is not a multiple of 21\n",
    "\n",
    "is_curzon(14) ➞ True\n",
    "# 2 ** 14 + 1 = 16385\n",
    "# 2 * 14 + 1 = 29\n",
    "# 16385 is a multiple of 29\n"
   ]
  },
  {
   "cell_type": "code",
   "execution_count": 79,
   "id": "734985d3",
   "metadata": {},
   "outputs": [],
   "source": [
    "def is_curzon(a):\n",
    "    b=(2**a)+1\n",
    "    c=(2*a)+1\n",
    "    if b%c==0:\n",
    "        print(\"is_curzon\",a,\"➞\",\"True\")\n",
    "        print(\"2**\",a,\"+\",\"1\",\"=\",b)\n",
    "        print(\"2*\",a,\"+\",1,\"=\",c)\n",
    "        print(b,\" is a multiple of \",c)\n",
    "    else:\n",
    "        print(\"is_curzon\",a,\"➞\",\"False\")\n",
    "        print(\"2**\",a,\"+\",\"1\",\"=\",b)\n",
    "        print(\"2*\",a,\"+\",1,\"=\",c)\n",
    "        print(b,\" is not a multiple of \",c)\n",
    "        "
   ]
  },
  {
   "cell_type": "code",
   "execution_count": 80,
   "id": "35120878",
   "metadata": {},
   "outputs": [
    {
     "name": "stdout",
     "output_type": "stream",
     "text": [
      "is_curzon 5 ➞ True\n",
      "2** 5 + 1 = 33\n",
      "2* 5 + 1 = 11\n",
      "33  is a multiple of  11\n"
     ]
    }
   ],
   "source": [
    "is_curzon(5)"
   ]
  },
  {
   "cell_type": "code",
   "execution_count": 81,
   "id": "784ef136",
   "metadata": {},
   "outputs": [
    {
     "name": "stdout",
     "output_type": "stream",
     "text": [
      "is_curzon 10 ➞ False\n",
      "2** 10 + 1 = 1025\n",
      "2* 10 + 1 = 21\n",
      "1025  is not a multiple of  21\n"
     ]
    }
   ],
   "source": [
    "is_curzon(10)"
   ]
  },
  {
   "cell_type": "code",
   "execution_count": 82,
   "id": "e5a44b1a",
   "metadata": {},
   "outputs": [
    {
     "name": "stdout",
     "output_type": "stream",
     "text": [
      "is_curzon 14 ➞ True\n",
      "2** 14 + 1 = 16385\n",
      "2* 14 + 1 = 29\n",
      "16385  is a multiple of  29\n"
     ]
    }
   ],
   "source": [
    "is_curzon(14)"
   ]
  },
  {
   "cell_type": "markdown",
   "id": "38c12de7",
   "metadata": {},
   "source": [
    "Question 4.Given the side length x find the area of a hexagon.\n",
    " \n",
    "Examples\n",
    "area_of_hexagon(1) ➞ 2.6\n",
    "\n",
    "area_of_hexagon(2) ➞ 10.4\n",
    "\n",
    "area_of_hexagon(3) ➞ 23.4\n"
   ]
  },
  {
   "cell_type": "code",
   "execution_count": 96,
   "id": "2e8a521b",
   "metadata": {},
   "outputs": [],
   "source": [
    "#formulla for  area of hexagon is (3√3 s2)/ 2\n",
    "#so we directly use (3√3)/2=2.598\n",
    "def area_of_hexagon(s):\n",
    "    a=2.598\n",
    "    print(\"area_of_hexagon\",\"➞\",round(a*s**2,1))"
   ]
  },
  {
   "cell_type": "code",
   "execution_count": 97,
   "id": "9ea13deb",
   "metadata": {},
   "outputs": [
    {
     "name": "stdout",
     "output_type": "stream",
     "text": [
      "area_of_hexagon ➞ 2.6\n",
      "area_of_hexagon ➞ 10.4\n",
      "area_of_hexagon ➞ 23.4\n"
     ]
    }
   ],
   "source": [
    "area_of_hexagon(1)\n",
    "area_of_hexagon(2)\n",
    "area_of_hexagon(3)"
   ]
  },
  {
   "cell_type": "markdown",
   "id": "b6e11442",
   "metadata": {},
   "source": [
    "Question 5. Create a function that returns a base-2 (binary) representation of a base-10 (decimal) string number. To convert is simple: ((2) means base-2 and (10) means base-10) 010101001(2) = 1 + 8 + 32 + 128.\n",
    "Going from right to left, the value of the most right bit is 1, now from that every bit to the left will be x2 the value, value of an 8 bit binary numbers are (256, 128, 64, 32, 16, 8, 4, 2, 1).\n",
    "Examples\n",
    "binary(1) ➞ \"1\"\n",
    "# 1*1 = 1\n",
    "\n",
    "binary(5) ➞ \"101\"\n",
    "# 1*1 + 1*4 = 5\n",
    "\n",
    "binary(10) ➞ \"1010\"\n",
    "# 1*2 + 1*8 = 10\n"
   ]
  },
  {
   "cell_type": "code",
   "execution_count": 12,
   "id": "de842127",
   "metadata": {},
   "outputs": [],
   "source": [
    "def binary(a):\n",
    "    l=[]\n",
    "    if a==1:\n",
    "            l.append(1)\n",
    "    else:\n",
    "        while a!=1:    \n",
    "            if a%2==0:\n",
    "                l.append(0)\n",
    "                a=a/2\n",
    "            else:\n",
    "                l.append(1)\n",
    "                a=int(a/2)\n",
    "        l.append(1)   \n",
    "    \n",
    "    ints = l[::-1]\n",
    "    string_ints = [str(int) for int in ints] \n",
    "    str_of_ints = \",\". join(string_ints) \n",
    "    print(\"binary is-->\",str_of_ints)"
   ]
  },
  {
   "cell_type": "code",
   "execution_count": 13,
   "id": "def18ae9",
   "metadata": {},
   "outputs": [
    {
     "name": "stdout",
     "output_type": "stream",
     "text": [
      "binary is--> 1\n",
      "binary is--> 1,0,1\n",
      "binary is--> 1,0,1,0\n",
      "binary is--> 1,0,0,0,1\n"
     ]
    }
   ],
   "source": [
    "binary(1)\n",
    "binary(5)\n",
    "binary(10)\n",
    "binary(17)"
   ]
  },
  {
   "cell_type": "code",
   "execution_count": null,
   "id": "06872d42",
   "metadata": {},
   "outputs": [],
   "source": []
  },
  {
   "cell_type": "code",
   "execution_count": null,
   "id": "47969070",
   "metadata": {},
   "outputs": [],
   "source": []
  }
 ],
 "metadata": {
  "kernelspec": {
   "display_name": "Python 3",
   "language": "python",
   "name": "python3"
  },
  "language_info": {
   "codemirror_mode": {
    "name": "ipython",
    "version": 3
   },
   "file_extension": ".py",
   "mimetype": "text/x-python",
   "name": "python",
   "nbconvert_exporter": "python",
   "pygments_lexer": "ipython3",
   "version": "3.8.8"
  }
 },
 "nbformat": 4,
 "nbformat_minor": 5
}
