{
 "cells": [
  {
   "cell_type": "markdown",
   "id": "3b716530",
   "metadata": {},
   "source": [
    "# Question1\n",
    "Write a function that takes a list and a number as arguments. Add the number to the end of the list, then remove the first element of the list. The function should then return the updated list.\n",
    "Examples\n",
    "next_in_line([5, 6, 7, 8, 9], 1) ➞ [6, 7, 8, 9, 1]\n",
    "\n",
    "next_in_line([7, 6, 3, 23, 17], 10) ➞ [6, 3, 23, 17, 10]\n",
    "\n",
    "next_in_line([1, 10, 20, 42 ], 6) ➞ [10, 20, 42, 6]\n",
    "\n",
    "next_in_line([], 6) ➞ \"No list has been selected\"\n"
   ]
  },
  {
   "cell_type": "code",
   "execution_count": 1,
   "id": "ec97a224",
   "metadata": {},
   "outputs": [],
   "source": [
    "def next_in_line(l,a):\n",
    "    list1=[]\n",
    "    if l!=[]:\n",
    "        for i in l:\n",
    "            list1.append(i)\n",
    "        list1.pop(0)\n",
    "        list1.append(a)\n",
    "        return list1\n",
    "    else:\n",
    "        print(\"No list has been selected\")"
   ]
  },
  {
   "cell_type": "code",
   "execution_count": 2,
   "id": "4fb07355",
   "metadata": {},
   "outputs": [
    {
     "data": {
      "text/plain": [
       "[6, 3, 23, 17, 10]"
      ]
     },
     "execution_count": 2,
     "metadata": {},
     "output_type": "execute_result"
    }
   ],
   "source": [
    "next_in_line([7, 6, 3, 23, 17], 10)"
   ]
  },
  {
   "cell_type": "code",
   "execution_count": 3,
   "id": "1bc3d98d",
   "metadata": {},
   "outputs": [
    {
     "data": {
      "text/plain": [
       "[10, 20, 42, 6]"
      ]
     },
     "execution_count": 3,
     "metadata": {},
     "output_type": "execute_result"
    }
   ],
   "source": [
    "next_in_line([1, 10, 20, 42 ], 6)"
   ]
  },
  {
   "cell_type": "code",
   "execution_count": 4,
   "id": "664844aa",
   "metadata": {},
   "outputs": [
    {
     "name": "stdout",
     "output_type": "stream",
     "text": [
      "No list has been selected\n"
     ]
    }
   ],
   "source": [
    "next_in_line([], 6)"
   ]
  },
  {
   "cell_type": "markdown",
   "id": "32d017d5",
   "metadata": {},
   "source": [
    "Question2\n",
    "Create the function that takes a list of dictionaries and returns the sum of people's budgets.\n",
    "Examples\n",
    "get_budgets([\n",
    "  { \"name\": \"John\", \"age\": 21, \"budget\": 23000 },\n",
    "  { \"name\": \"Steve\",  \"age\": 32, \"budget\": 40000 },\n",
    "  { \"name\": \"Martin\",  \"age\": 16, \"budget\": 2700 }\n",
    "]) ➞ 65700\n",
    "\n",
    "get_budgets([\n",
    "  { \"name\": \"John\",  \"age\": 21, \"budget\": 29000 },\n",
    "  { \"name\": \"Steve\",  \"age\": 32, \"budget\": 32000 },\n",
    "  { \"name\": \"Martin\",  \"age\": 16, \"budget\": 1600 }\n",
    "]) ➞ 62600\n",
    "\n"
   ]
  },
  {
   "cell_type": "code",
   "execution_count": 5,
   "id": "7f9dd4c7",
   "metadata": {},
   "outputs": [],
   "source": [
    "def get_budgets(d):\n",
    "    sum=0\n",
    "    for i in d:\n",
    "        sum=sum+i.get('budget')\n",
    "    return sum    "
   ]
  },
  {
   "cell_type": "code",
   "execution_count": 6,
   "id": "e8373306",
   "metadata": {},
   "outputs": [
    {
     "data": {
      "text/plain": [
       "65700"
      ]
     },
     "execution_count": 6,
     "metadata": {},
     "output_type": "execute_result"
    }
   ],
   "source": [
    "get_budgets([\n",
    "  { \"name\": \"John\", \"age\": 21, \"budget\": 23000 },\n",
    "  { \"name\": \"Steve\",  \"age\": 32, \"budget\": 40000 },\n",
    "  { \"name\": \"Martin\",  \"age\": 16, \"budget\": 2700 }\n",
    "])"
   ]
  },
  {
   "cell_type": "code",
   "execution_count": 7,
   "id": "ad9e06f1",
   "metadata": {},
   "outputs": [
    {
     "data": {
      "text/plain": [
       "62600"
      ]
     },
     "execution_count": 7,
     "metadata": {},
     "output_type": "execute_result"
    }
   ],
   "source": [
    "get_budgets([\n",
    "  { \"name\": \"John\",  \"age\": 21, \"budget\": 29000 },\n",
    "  { \"name\": \"Steve\",  \"age\": 32, \"budget\": 32000 },\n",
    "  { \"name\": \"Martin\",  \"age\": 16, \"budget\": 1600 }\n",
    "])"
   ]
  },
  {
   "cell_type": "markdown",
   "id": "2ee82fb2",
   "metadata": {},
   "source": [
    "Question3\n",
    "Create a function that takes a string and returns a string with its letters in alphabetical order.\n",
    "Examples\n",
    "alphabet_soup(\"hello\") ➞ \"ehllo\"\n",
    "\n",
    "alphabet_soup(\"edabit\") ➞ \"abdeit\"\n",
    "\n",
    "alphabet_soup(\"hacker\") ➞ \"acehkr\"\n",
    "\n",
    "alphabet_soup(\"geek\") ➞ \"eegk\"\n",
    "\n",
    "alphabet_soup(\"javascript\") ➞ \"aacijprstv\"\n"
   ]
  },
  {
   "cell_type": "code",
   "execution_count": 8,
   "id": "3d490c86",
   "metadata": {},
   "outputs": [],
   "source": [
    "def alphabet_soup(str):\n",
    "    return ''.join(sorted(str))"
   ]
  },
  {
   "cell_type": "code",
   "execution_count": 9,
   "id": "5a8d4dd2",
   "metadata": {},
   "outputs": [
    {
     "data": {
      "text/plain": [
       "'abdeit'"
      ]
     },
     "execution_count": 9,
     "metadata": {},
     "output_type": "execute_result"
    }
   ],
   "source": [
    "alphabet_soup(\"edabit\")"
   ]
  },
  {
   "cell_type": "code",
   "execution_count": 10,
   "id": "33c43b61",
   "metadata": {},
   "outputs": [
    {
     "data": {
      "text/plain": [
       "'acehkr'"
      ]
     },
     "execution_count": 10,
     "metadata": {},
     "output_type": "execute_result"
    }
   ],
   "source": [
    "alphabet_soup(\"hacker\") "
   ]
  },
  {
   "cell_type": "code",
   "execution_count": 11,
   "id": "f72eea91",
   "metadata": {},
   "outputs": [
    {
     "data": {
      "text/plain": [
       "'eegk'"
      ]
     },
     "execution_count": 11,
     "metadata": {},
     "output_type": "execute_result"
    }
   ],
   "source": [
    "alphabet_soup(\"geek\")"
   ]
  },
  {
   "cell_type": "code",
   "execution_count": 12,
   "id": "43f10993",
   "metadata": {},
   "outputs": [
    {
     "data": {
      "text/plain": [
       "'aacijprstv'"
      ]
     },
     "execution_count": 12,
     "metadata": {},
     "output_type": "execute_result"
    }
   ],
   "source": [
    "alphabet_soup(\"javascript\") "
   ]
  },
  {
   "cell_type": "markdown",
   "id": "b8bf5f9c",
   "metadata": {},
   "source": [
    "Question4\n",
    "Suppose that you invest $10,000 for 10 years at an interest rate of 6% compounded monthly. What will be the value of your investment at the end of the 10 year period?\n",
    "Create a function that accepts the principal p, the term in years t, the interest rate r, and the number of compounding periods per year n. The function returns the value at the end of term rounded to the nearest cent.\n",
    "For the example above:\n",
    "compound_interest(10000, 10, 0.06, 12) ➞ 18193.97\n",
    "Note that the interest rate is given as a decimal and n=12 because with monthly compounding there are 12 periods per year. Compounding can also be done annually, quarterly, weekly, or daily.\n",
    "Examples\n",
    "compound_interest(100, 1, 0.05, 1) ➞ 105.0\n",
    "\n",
    "compound_interest(3500, 15, 0.1, 4) ➞ 15399.26\n",
    "\n",
    "compound_interest(100000, 20, 0.15, 365) ➞ 2007316.26\n",
    "\n"
   ]
  },
  {
   "cell_type": "code",
   "execution_count": 13,
   "id": "f3ab77b1",
   "metadata": {},
   "outputs": [],
   "source": [
    "def compound_interest(principal,time,rate, number):\n",
    "    amount = principal * pow( 1+(rate/number), number*time)\n",
    "    return amount"
   ]
  },
  {
   "cell_type": "code",
   "execution_count": 14,
   "id": "c53fe375",
   "metadata": {},
   "outputs": [
    {
     "data": {
      "text/plain": [
       "18193.9673403229"
      ]
     },
     "execution_count": 14,
     "metadata": {},
     "output_type": "execute_result"
    }
   ],
   "source": [
    "compound_interest(10000,10,0.06, 12)"
   ]
  },
  {
   "cell_type": "code",
   "execution_count": 15,
   "id": "d91f42bb",
   "metadata": {},
   "outputs": [
    {
     "data": {
      "text/plain": [
       "105.0"
      ]
     },
     "execution_count": 15,
     "metadata": {},
     "output_type": "execute_result"
    }
   ],
   "source": [
    "compound_interest(100, 1, 0.05, 1)"
   ]
  },
  {
   "cell_type": "code",
   "execution_count": 16,
   "id": "db3bc10a",
   "metadata": {},
   "outputs": [
    {
     "data": {
      "text/plain": [
       "15399.264120852586"
      ]
     },
     "execution_count": 16,
     "metadata": {},
     "output_type": "execute_result"
    }
   ],
   "source": [
    "compound_interest(3500, 15, 0.1, 4)"
   ]
  },
  {
   "cell_type": "code",
   "execution_count": 17,
   "id": "819d0ed8",
   "metadata": {},
   "outputs": [
    {
     "data": {
      "text/plain": [
       "2007316.2632325366"
      ]
     },
     "execution_count": 17,
     "metadata": {},
     "output_type": "execute_result"
    }
   ],
   "source": [
    "compound_interest(100000, 20, 0.15, 365)"
   ]
  },
  {
   "cell_type": "markdown",
   "id": "9a044839",
   "metadata": {},
   "source": [
    "Question5\n",
    "Write a function that takes a list of elements and returns only the integers.\n",
    "Examples\n",
    "return_only_integer([9, 2, \"space\", \"car\", \"lion\", 16]) ➞ [9, 2, 16]\n",
    "\n",
    "return_only_integer([\"hello\", 81, \"basketball\", 123, \"fox\"]) ➞ [81, 123]\n",
    "\n",
    "return_only_integer([10, \"121\", 56, 20, \"car\", 3, \"lion\"]) ➞ [10, 56, 20, 3]\n",
    "\n",
    "return_only_integer([\"String\",  True,  3.3,  1]) ➞ [1]\n",
    "\n"
   ]
  },
  {
   "cell_type": "code",
   "execution_count": 18,
   "id": "91492a54",
   "metadata": {},
   "outputs": [],
   "source": [
    "def return_only_integer(l):\n",
    "    list=[]\n",
    "    for i in l:\n",
    "        if type(i)==int:\n",
    "            list.append(i)\n",
    "    return list        "
   ]
  },
  {
   "cell_type": "code",
   "execution_count": 19,
   "id": "c14b4c77",
   "metadata": {},
   "outputs": [
    {
     "data": {
      "text/plain": [
       "[9, 2, 16]"
      ]
     },
     "execution_count": 19,
     "metadata": {},
     "output_type": "execute_result"
    }
   ],
   "source": [
    "return_only_integer([9, 2, \"space\", \"car\", \"lion\", 16])"
   ]
  },
  {
   "cell_type": "code",
   "execution_count": 20,
   "id": "137887cf",
   "metadata": {},
   "outputs": [
    {
     "data": {
      "text/plain": [
       "[81, 123]"
      ]
     },
     "execution_count": 20,
     "metadata": {},
     "output_type": "execute_result"
    }
   ],
   "source": [
    "return_only_integer([\"hello\", 81, \"basketball\", 123, \"fox\"]) "
   ]
  },
  {
   "cell_type": "code",
   "execution_count": 21,
   "id": "41964084",
   "metadata": {},
   "outputs": [
    {
     "data": {
      "text/plain": [
       "[10, 56, 20, 3]"
      ]
     },
     "execution_count": 21,
     "metadata": {},
     "output_type": "execute_result"
    }
   ],
   "source": [
    "return_only_integer([10, \"121\", 56, 20, \"car\", 3, \"lion\"]) "
   ]
  },
  {
   "cell_type": "code",
   "execution_count": 22,
   "id": "d071f26f",
   "metadata": {},
   "outputs": [
    {
     "data": {
      "text/plain": [
       "[1]"
      ]
     },
     "execution_count": 22,
     "metadata": {},
     "output_type": "execute_result"
    }
   ],
   "source": [
    "return_only_integer([\"String\", True, 3.3, 1])"
   ]
  },
  {
   "cell_type": "code",
   "execution_count": null,
   "id": "4c3fe374",
   "metadata": {},
   "outputs": [],
   "source": []
  }
 ],
 "metadata": {
  "kernelspec": {
   "display_name": "Python 3",
   "language": "python",
   "name": "python3"
  },
  "language_info": {
   "codemirror_mode": {
    "name": "ipython",
    "version": 3
   },
   "file_extension": ".py",
   "mimetype": "text/x-python",
   "name": "python",
   "nbconvert_exporter": "python",
   "pygments_lexer": "ipython3",
   "version": "3.8.8"
  }
 },
 "nbformat": 4,
 "nbformat_minor": 5
}
